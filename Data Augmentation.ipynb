{
  "nbformat": 4,
  "nbformat_minor": 0,
  "metadata": {
    "colab": {
      "provenance": []
    },
    "kernelspec": {
      "name": "python3",
      "display_name": "Python 3"
    },
    "language_info": {
      "name": "python"
    },
    "accelerator": "GPU",
    "gpuClass": "standard"
  },
  "cells": [
    {
      "cell_type": "code",
      "execution_count": null,
      "metadata": {
        "colab": {
          "base_uri": "https://localhost:8080/"
        },
        "id": "mOME-2Xjv9aA",
        "outputId": "6708a7ae-c777-489b-e3c7-f826221c0c7c"
      },
      "outputs": [
        {
          "output_type": "stream",
          "name": "stdout",
          "text": [
            "Looking in indexes: https://pypi.org/simple, https://us-python.pkg.dev/colab-wheels/public/simple/\n",
            "Requirement already satisfied: torch in /usr/local/lib/python3.8/dist-packages (1.13.1+cu116)\n",
            "Requirement already satisfied: typing-extensions in /usr/local/lib/python3.8/dist-packages (from torch) (4.5.0)\n",
            "Looking in indexes: https://pypi.org/simple, https://us-python.pkg.dev/colab-wheels/public/simple/\n",
            "Requirement already satisfied: scipy in /usr/local/lib/python3.8/dist-packages (1.7.3)\n",
            "Requirement already satisfied: numpy<1.23.0,>=1.16.5 in /usr/local/lib/python3.8/dist-packages (from scipy) (1.21.6)\n",
            "Looking in indexes: https://pypi.org/simple, https://us-python.pkg.dev/colab-wheels/public/simple/\n",
            "Collecting torchmetrics\n",
            "  Downloading torchmetrics-0.11.1-py3-none-any.whl (517 kB)\n",
            "\u001b[2K     \u001b[90m━━━━━━━━━━━━━━━━━━━━━━━━━━━━━━━━━━━━━━━\u001b[0m \u001b[32m517.2/517.2 KB\u001b[0m \u001b[31m8.9 MB/s\u001b[0m eta \u001b[36m0:00:00\u001b[0m\n",
            "\u001b[?25hRequirement already satisfied: numpy>=1.17.2 in /usr/local/lib/python3.8/dist-packages (from torchmetrics) (1.21.6)\n",
            "Requirement already satisfied: packaging in /usr/local/lib/python3.8/dist-packages (from torchmetrics) (23.0)\n",
            "Requirement already satisfied: torch>=1.8.1 in /usr/local/lib/python3.8/dist-packages (from torchmetrics) (1.13.1+cu116)\n",
            "Requirement already satisfied: typing-extensions in /usr/local/lib/python3.8/dist-packages (from torchmetrics) (4.5.0)\n",
            "Installing collected packages: torchmetrics\n",
            "Successfully installed torchmetrics-0.11.1\n",
            "Looking in indexes: https://pypi.org/simple, https://us-python.pkg.dev/colab-wheels/public/simple/\n",
            "Collecting wandb\n",
            "  Downloading wandb-0.13.10-py3-none-any.whl (2.0 MB)\n",
            "\u001b[2K     \u001b[90m━━━━━━━━━━━━━━━━━━━━━━━━━━━━━━━━━━━━━━━━\u001b[0m \u001b[32m2.0/2.0 MB\u001b[0m \u001b[31m22.6 MB/s\u001b[0m eta \u001b[36m0:00:00\u001b[0m\n",
            "\u001b[?25hCollecting pathtools\n",
            "  Downloading pathtools-0.1.2.tar.gz (11 kB)\n",
            "  Preparing metadata (setup.py) ... \u001b[?25l\u001b[?25hdone\n",
            "Requirement already satisfied: Click!=8.0.0,>=7.0 in /usr/local/lib/python3.8/dist-packages (from wandb) (7.1.2)\n",
            "Collecting docker-pycreds>=0.4.0\n",
            "  Downloading docker_pycreds-0.4.0-py2.py3-none-any.whl (9.0 kB)\n",
            "Collecting setproctitle\n",
            "  Downloading setproctitle-1.3.2-cp38-cp38-manylinux_2_5_x86_64.manylinux1_x86_64.manylinux_2_17_x86_64.manylinux2014_x86_64.whl (31 kB)\n",
            "Requirement already satisfied: appdirs>=1.4.3 in /usr/local/lib/python3.8/dist-packages (from wandb) (1.4.4)\n",
            "Requirement already satisfied: setuptools in /usr/local/lib/python3.8/dist-packages (from wandb) (57.4.0)\n",
            "Collecting GitPython>=1.0.0\n",
            "  Downloading GitPython-3.1.31-py3-none-any.whl (184 kB)\n",
            "\u001b[2K     \u001b[90m━━━━━━━━━━━━━━━━━━━━━━━━━━━━━━━━━━━━━━\u001b[0m \u001b[32m184.3/184.3 KB\u001b[0m \u001b[31m21.1 MB/s\u001b[0m eta \u001b[36m0:00:00\u001b[0m\n",
            "\u001b[?25hRequirement already satisfied: requests<3,>=2.0.0 in /usr/local/lib/python3.8/dist-packages (from wandb) (2.25.1)\n",
            "Requirement already satisfied: typing-extensions in /usr/local/lib/python3.8/dist-packages (from wandb) (4.5.0)\n",
            "Collecting sentry-sdk>=1.0.0\n",
            "  Downloading sentry_sdk-1.15.0-py2.py3-none-any.whl (181 kB)\n",
            "\u001b[2K     \u001b[90m━━━━━━━━━━━━━━━━━━━━━━━━━━━━━━━━━━━━━━\u001b[0m \u001b[32m181.3/181.3 KB\u001b[0m \u001b[31m19.7 MB/s\u001b[0m eta \u001b[36m0:00:00\u001b[0m\n",
            "\u001b[?25hRequirement already satisfied: PyYAML in /usr/local/lib/python3.8/dist-packages (from wandb) (6.0)\n",
            "Requirement already satisfied: psutil>=5.0.0 in /usr/local/lib/python3.8/dist-packages (from wandb) (5.4.8)\n",
            "Requirement already satisfied: protobuf!=4.21.0,<5,>=3.12.0 in /usr/local/lib/python3.8/dist-packages (from wandb) (3.19.6)\n",
            "Requirement already satisfied: six>=1.4.0 in /usr/local/lib/python3.8/dist-packages (from docker-pycreds>=0.4.0->wandb) (1.15.0)\n",
            "Collecting gitdb<5,>=4.0.1\n",
            "  Downloading gitdb-4.0.10-py3-none-any.whl (62 kB)\n",
            "\u001b[2K     \u001b[90m━━━━━━━━━━━━━━━━━━━━━━━━━━━━━━━━━━━━━━━━\u001b[0m \u001b[32m62.7/62.7 KB\u001b[0m \u001b[31m7.9 MB/s\u001b[0m eta \u001b[36m0:00:00\u001b[0m\n",
            "\u001b[?25hRequirement already satisfied: chardet<5,>=3.0.2 in /usr/local/lib/python3.8/dist-packages (from requests<3,>=2.0.0->wandb) (4.0.0)\n",
            "Requirement already satisfied: urllib3<1.27,>=1.21.1 in /usr/local/lib/python3.8/dist-packages (from requests<3,>=2.0.0->wandb) (1.24.3)\n",
            "Requirement already satisfied: certifi>=2017.4.17 in /usr/local/lib/python3.8/dist-packages (from requests<3,>=2.0.0->wandb) (2022.12.7)\n",
            "Requirement already satisfied: idna<3,>=2.5 in /usr/local/lib/python3.8/dist-packages (from requests<3,>=2.0.0->wandb) (2.10)\n",
            "Collecting urllib3<1.27,>=1.21.1\n",
            "  Downloading urllib3-1.26.14-py2.py3-none-any.whl (140 kB)\n",
            "\u001b[2K     \u001b[90m━━━━━━━━━━━━━━━━━━━━━━━━━━━━━━━━━━━━━━\u001b[0m \u001b[32m140.6/140.6 KB\u001b[0m \u001b[31m17.0 MB/s\u001b[0m eta \u001b[36m0:00:00\u001b[0m\n",
            "\u001b[?25hCollecting smmap<6,>=3.0.1\n",
            "  Downloading smmap-5.0.0-py3-none-any.whl (24 kB)\n",
            "Building wheels for collected packages: pathtools\n",
            "  Building wheel for pathtools (setup.py) ... \u001b[?25l\u001b[?25hdone\n",
            "  Created wheel for pathtools: filename=pathtools-0.1.2-py3-none-any.whl size=8806 sha256=84fa51cacf738c6490bedb67776fb4a27ca0770e19f0d67caf564e5dd092d1c1\n",
            "  Stored in directory: /root/.cache/pip/wheels/4c/8e/7e/72fbc243e1aeecae64a96875432e70d4e92f3d2d18123be004\n",
            "Successfully built pathtools\n",
            "Installing collected packages: pathtools, urllib3, smmap, setproctitle, docker-pycreds, sentry-sdk, gitdb, GitPython, wandb\n",
            "  Attempting uninstall: urllib3\n",
            "    Found existing installation: urllib3 1.24.3\n",
            "    Uninstalling urllib3-1.24.3:\n",
            "      Successfully uninstalled urllib3-1.24.3\n",
            "Successfully installed GitPython-3.1.31 docker-pycreds-0.4.0 gitdb-4.0.10 pathtools-0.1.2 sentry-sdk-1.15.0 setproctitle-1.3.2 smmap-5.0.0 urllib3-1.26.14 wandb-0.13.10\n",
            "Mounted at /content/gdrive\n"
          ]
        }
      ],
      "source": [
        "!pip install torch\n",
        "!pip install scipy \n",
        "!pip install torchmetrics\n",
        "!pip install wandb\n",
        "import os\n",
        "\n",
        "from PIL import Image\n",
        "import random\n",
        "import torch\n",
        "import torch.nn as nn\n",
        "import torchvision\n",
        "import torchvision.transforms as transforms\n",
        "import torch.optim as optim\n",
        "import matplotlib.pyplot as plt\n",
        "import torch.nn.functional as F\n",
        "import numpy as np\n",
        "from torch.utils.data.sampler import SubsetRandomSampler\n",
        "import pickle\n",
        "from sklearn import manifold\n",
        "import pandas as pd\n",
        "import seaborn as sns\n",
        "from sklearn.metrics import classification_report\n",
        "import scipy.io\n",
        "from google.colab import drive\n",
        "drive.mount(\"/content/gdrive\",force_remount=True)"
      ]
    },
    {
      "cell_type": "code",
      "source": [
        "import os\n",
        "from time import time\n",
        "from tqdm import tqdm\n",
        "import numpy\n",
        "\n",
        "import torch\n",
        "from torch.nn import Linear, CrossEntropyLoss\n",
        "from torch.optim import Adam\n",
        "from torch.utils.data import DataLoader\n",
        "\n",
        "import torchvision\n",
        "from torchvision.datasets import ImageFolder\n",
        "from torchvision.models import resnet18\n",
        "from torchvision.transforms import transforms\n",
        "\n",
        "import glob\n",
        "import cv2\n",
        "import numpy as np\n",
        "import torch\n",
        "from torch.utils.data import Dataset, DataLoader"
      ],
      "metadata": {
        "id": "JXIHNeyzwJQr"
      },
      "execution_count": null,
      "outputs": []
    },
    {
      "cell_type": "code",
      "source": [
        "import wandb\n",
        "wandb.login(key=\"1262a78bcdb91721d1f31364cec1d26409dd981e\")"
      ],
      "metadata": {
        "colab": {
          "base_uri": "https://localhost:8080/"
        },
        "id": "17jo-k0ubFuu",
        "outputId": "6feec25a-8c71-46e1-9c51-180f4f5e8295"
      },
      "execution_count": null,
      "outputs": [
        {
          "output_type": "stream",
          "name": "stderr",
          "text": [
            "ERROR:wandb.jupyter:Failed to detect the name of this notebook, you can set it manually with the WANDB_NOTEBOOK_NAME environment variable to enable code saving.\n",
            "\u001b[34m\u001b[1mwandb\u001b[0m: W&B API key is configured. Use \u001b[1m`wandb login --relogin`\u001b[0m to force relogin\n",
            "\u001b[34m\u001b[1mwandb\u001b[0m: \u001b[33mWARNING\u001b[0m If you're specifying your api key in code, ensure this code is not shared publicly.\n",
            "\u001b[34m\u001b[1mwandb\u001b[0m: \u001b[33mWARNING\u001b[0m Consider setting the WANDB_API_KEY environment variable, or running `wandb login` from the command line.\n",
            "\u001b[34m\u001b[1mwandb\u001b[0m: Appending key for api.wandb.ai to your netrc file: /root/.netrc\n"
          ]
        },
        {
          "output_type": "execute_result",
          "data": {
            "text/plain": [
              "True"
            ]
          },
          "metadata": {},
          "execution_count": 162
        }
      ]
    },
    {
      "cell_type": "code",
      "source": [
        "class CustomImageDataset(Dataset):\n",
        "    def __init__(self, data ,transform=None, target_transform=None):\n",
        "        self.img_labels = data['y_aug']\n",
        "        self.img_dir = data['X_aug']\n",
        "        self.transform = transform\n",
        "        self.data = data\n",
        "\n",
        "        self.target_transform = target_transform\n",
        "\n",
        "    def __len__(self):\n",
        "        return len(self.img_labels)\n",
        "\n",
        "    def __getitem__(self, idx):\n",
        "        # img_path = os.path.join(self.img_dir, self.img_labels.iloc[idx, 0])\n",
        "        image = self.img_dir[:,:,:,idx]\n",
        "        label = self.img_labels[idx]\n",
        "        if self.transform:\n",
        "            image = self.transform(image)\n",
        "        if self.target_transform:\n",
        "            label = self.target_transform(label)\n",
        "        # print(idx)\n",
        "        return image, label"
      ],
      "metadata": {
        "id": "1ixUAyrdzMew"
      },
      "execution_count": null,
      "outputs": []
    },
    {
      "cell_type": "code",
      "source": [
        "import glob\n",
        "import cv2\n",
        "import numpy as np\n",
        "import torch\n",
        "from torch.utils.data import Dataset, DataLoader\n",
        "import os\n",
        "import pandas as pd\n",
        "from torchvision.io import read_image\n",
        "\n",
        "\n",
        "\n",
        "data = scipy.io.loadmat(\"/content/gdrive/MyDrive/cv1.mat\")\n",
        "data_size = len(data['y'])\n",
        "# data_size = 2000\n",
        "data['y'][ data['y'] == 10 ] = 0\n",
        "\n",
        "\n",
        "transform = transforms.Compose(\n",
        "    \n",
        "    [   \n",
        "        transforms.ToTensor(),\n",
        "        # transforms.Resize((32,32)),\n",
        "    #  transforms.Normalize((0.5, 0.5, 0.5), (0.5, 0.5, 0.5)),\n",
        "\n",
        "     ])\n",
        "\n",
        "aug_transform = transforms.Compose(\n",
        "    \n",
        "    [   \n",
        "        transforms.ToTensor(),\n",
        "        transforms.RandomGrayscale(p=0.6),\n",
        "        transforms.RandomRotation(degrees = (0,90)),\n",
        "        transforms.ColorJitter(brightness=(0.5,1.5), contrast=(1), saturation=(0.5,1.5), hue=(-0.1,0.1)),\n",
        "        transforms.RandomHorizontalFlip(),\n",
        "        # transforms.Normalize((0.5, 0.5, 0.5), (0.5, 0.5, 0.5))\n",
        "        # transforms.Resize((224, 224)),\n",
        "    \n",
        "     ])\n",
        "\n",
        "train_size = int(data_size*0.70)\n",
        "test_size = int(data_size*0.20)\n",
        "val_size = int(data_size*0.10)\n",
        "\n",
        "\n",
        "# dataset_size = 2000\n",
        "indices = list(range(data_size))\n",
        "np.random.shuffle(indices)\n",
        "\n",
        "test_index = indices[:test_size]\n",
        "train_index = indices[test_size:test_size+train_size]\n",
        "val_index = indices[-val_size:]\n",
        "\n",
        "# increase the size\n",
        "data['X_aug'] = np.concatenate((data['X'], data['X'][:train_size]),axis=3)\n",
        "data['y_aug'] = np.concatenate((data['y'], data['y'][:train_size]),axis=0)\n",
        "\n",
        "# modify the new data\n",
        "start = data_size\n",
        "for i in range(len(train_index)):\n",
        "    transformed_img = aug_transform(data['X'][:,:,:,train_index[i]]).permute(1,2,0).numpy()\n",
        "    # transformed_img = (data['X'][:,:,:,train_index[i]])\n",
        "    # print(type(transformed_img))\n",
        "    # plt.imshow(transformed_img)\n",
        "    # print(transformed_img.shape)\n",
        "    # img1 = transformed_img\n",
        "    data['X_aug'][:,:,:,start] = transformed_img\n",
        "    data['y_aug'][start] = data['y'][train_index[i]]\n",
        "                                     \n",
        "    start+=1\n",
        "\n",
        "train_index = np.concatenate((indices[test_size:test_size+train_size],np.arange(data_size,int(data_size+train_size*0.3),1)),axis = 0).astype(int)\n",
        "\n",
        "dataset = CustomImageDataset(data,transform)\n",
        "\n",
        "g = torch.Generator()\n",
        "g.manual_seed(42)\n",
        "batch_size = 64\n",
        "\n",
        "train_sampler=SubsetRandomSampler(train_index, generator=g)\n",
        "val_sampler=SubsetRandomSampler(val_index, generator=g)\n",
        "test_sampler=SubsetRandomSampler(test_index, generator=g)\n",
        "\n",
        "trainloader = torch.utils.data.DataLoader(dataset, sampler = train_sampler, batch_size=batch_size,num_workers=2)\n",
        "valloader = torch.utils.data.DataLoader(dataset, sampler = val_sampler, batch_size=batch_size,num_workers=2)\n",
        "testloader = torch.utils.data.DataLoader(dataset, sampler = test_sampler, batch_size=batch_size,num_workers=2)"
      ],
      "metadata": {
        "id": "oAt4QqkN-zNB"
      },
      "execution_count": null,
      "outputs": []
    },
    {
      "cell_type": "code",
      "source": [
        "print(len(train_index))"
      ],
      "metadata": {
        "colab": {
          "base_uri": "https://localhost:8080/"
        },
        "id": "XQadwJrpcH6M",
        "outputId": "8a89409d-762c-4614-b9e7-1a869bbafccc"
      },
      "execution_count": null,
      "outputs": [
        {
          "output_type": "stream",
          "name": "stdout",
          "text": [
            "66662\n"
          ]
        }
      ]
    },
    {
      "cell_type": "code",
      "source": [
        "img = aug_transform(data['X'][:,:,:,1]).permute(1,2,0).numpy()\n",
        "plt.imshow(img)"
      ],
      "metadata": {
        "colab": {
          "base_uri": "https://localhost:8080/",
          "height": 283
        },
        "id": "rdfd2_F4Uv7d",
        "outputId": "d4eaadc0-359a-48b2-d614-24cbb072cb06"
      },
      "execution_count": null,
      "outputs": [
        {
          "output_type": "execute_result",
          "data": {
            "text/plain": [
              "<matplotlib.image.AxesImage at 0x7f32ee8753d0>"
            ]
          },
          "metadata": {},
          "execution_count": 155
        },
        {
          "output_type": "display_data",
          "data": {
            "text/plain": [
              "<Figure size 432x288 with 1 Axes>"
            ],
            "image/png": "[encoded data removed]"
          },
          "metadata": {
            "needs_background": "light"
          }
        }
      ]
    },
    {
      "cell_type": "code",
      "source": [
        "# transform = transforms.Compose(\n",
        "    \n",
        "#     [   \n",
        "#         transforms.ToTensor(),\n",
        "#         # transforms.Resize((32,32)),\n",
        "#     #  transforms.Normalize((0.5, 0.5, 0.5), (0.5, 0.5, 0.5)),\n",
        "\n",
        "#      ])"
      ],
      "metadata": {
        "id": "gllyS3MnWpY6"
      },
      "execution_count": null,
      "outputs": []
    },
    {
      "cell_type": "code",
      "source": [
        "# data['X_aug'] = np.concatenate((data['X'], data['X'][:train_size]),axis=3)\n",
        "# data['y_aug'] = np.concatenate((data['y'], data['y'][:train_size]),axis=0)"
      ],
      "metadata": {
        "id": "EqEu7_xQa0ts"
      },
      "execution_count": null,
      "outputs": []
    },
    {
      "cell_type": "code",
      "source": [
        "# train_index[9]"
      ],
      "metadata": {
        "colab": {
          "base_uri": "https://localhost:8080/"
        },
        "id": "EkM3omf0Y_3R",
        "outputId": "70344989-7319-4d5b-f615-a57df1c6aa6a"
      },
      "execution_count": null,
      "outputs": [
        {
          "output_type": "execute_result",
          "data": {
            "text/plain": [
              "73266"
            ]
          },
          "metadata": {},
          "execution_count": 174
        }
      ]
    },
    {
      "cell_type": "code",
      "source": [
        "# data['X_aug1'] = np.concatenate((data['X'], data['X'][:train_size]),axis=3)\n",
        "# data['y_aug1'] = np.concatenate((data['y'], data['y'][:train_size]),axis=0)\n",
        "\n",
        "# start = data_size\n",
        "# for i in range(len(train_index[:2])):\n",
        "#     transformed_img = (data['X'][:,:,:,train_index[i]])\n",
        "#     print(type(transformed_img))\n",
        "#     plt.imshow(transformed_img)\n",
        "#     print(np.array(transformed_img).shape)\n",
        "#     # img1 = transformed_img\n",
        "#     data['X_aug1'][:,:,:,start] = transformed_img\n",
        "#     data['y_aug1'][start] = data['y'][train_index[i]]\n",
        "                                     \n",
        "#     start+=1"
      ],
      "metadata": {
        "colab": {
          "base_uri": "https://localhost:8080/",
          "height": 335
        },
        "id": "nDacwovuKfxJ",
        "outputId": "6f833d01-bcf4-486d-e3aa-73939d06c6de"
      },
      "execution_count": null,
      "outputs": [
        {
          "output_type": "stream",
          "name": "stdout",
          "text": [
            "<class 'numpy.ndarray'>\n",
            "(32, 32, 3)\n",
            "<class 'numpy.ndarray'>\n",
            "(32, 32, 3)\n"
          ]
        },
        {
          "output_type": "display_data",
          "data": {
            "text/plain": [
              "<Figure size 432x288 with 1 Axes>"
            ],
            "image/png": "[encoded data removed]"
          },
          "metadata": {
            "needs_background": "light"
          }
        }
      ]
    },
    {
      "cell_type": "code",
      "source": [
        "# plt.imshow(data['X_aug1'][:,:,:,data_size])\n",
        "# print(data['y_aug'][data_size])\n",
        "# print(type(data['X_aug1'][:,:,:,data_size]))"
      ],
      "metadata": {
        "colab": {
          "base_uri": "https://localhost:8080/",
          "height": 301
        },
        "id": "SRu9yWQpM13c",
        "outputId": "97fe0661-3363-44b0-9e06-8c3f527e9e81"
      },
      "execution_count": null,
      "outputs": [
        {
          "output_type": "stream",
          "name": "stdout",
          "text": [
            "[1]\n",
            "<class 'numpy.ndarray'>\n"
          ]
        },
        {
          "output_type": "display_data",
          "data": {
            "text/plain": [
              "<Figure size 432x288 with 1 Axes>"
            ],
            "image/png": "[encoded data removed]"
          },
          "metadata": {
            "needs_background": "light"
          }
        }
      ]
    },
    {
      "cell_type": "code",
      "source": [
        "# aug_images = []\n",
        "# for i in range(len(train_index[:10])):\n",
        "#       transformed_img = transform(data['X'][:,:,:,train_index[i]])\n",
        "#       # data['y']=np.concatenate( (data['y'] ,np.array([ data['y'][train_index[i]] ])) ,axis=0)\n",
        "#       # data['X']=np.concatenate((data['X'] ,np.array([transformed_img])),axis=3)\n",
        "#       aug_images.append(transformed_img)"
      ],
      "metadata": {
        "id": "rjF5jOoiEuok"
      },
      "execution_count": null,
      "outputs": []
    },
    {
      "cell_type": "code",
      "source": [
        "# len(data['X'][[0, 8, 6, 7, 3, 2, 5, 1, 9, 4]])"
      ],
      "metadata": {
        "colab": {
          "base_uri": "https://localhost:8080/"
        },
        "id": "35_mh7MGHE0W",
        "outputId": "476af07c-aa1f-4677-c186-c51459f153d5"
      },
      "execution_count": null,
      "outputs": [
        {
          "output_type": "execute_result",
          "data": {
            "text/plain": [
              "10"
            ]
          },
          "metadata": {},
          "execution_count": 40
        }
      ]
    },
    {
      "cell_type": "code",
      "source": [
        "class Model(nn.Module):\n",
        "    def __init__(self,mode=\"default\",drops=\"none\"):\n",
        "      \n",
        "        super().__init__()\n",
        "\n",
        "        #conv2d main args = in_channel, out_channel, kernel size, stride, padding\n",
        "        #MaxPool2d main args = kernel size, stride\n",
        "\n",
        "        self.conv1 = nn.Conv2d(3, 32 , kernel_size=(3,3) ,padding=1)\n",
        "        self.relu1 = nn.ReLU()\n",
        "\n",
        "        self.conv2 = nn.Conv2d(32, 64, kernel_size=(3,3), padding=1)\n",
        "        self.relu2= nn.ReLU()\n",
        "        \n",
        "        #Classification head \n",
        "        self.fc = nn.Linear(int(262144/4), 10)\n",
        "     \n",
        "\n",
        "        # if mode==\"Zero\":\n",
        "        #   torch.nn.init.zeros_(self.conv1.weight)\n",
        "        #   torch.nn.init.zeros_(self.conv2.weight)\n",
        "        #   torch.nn.init.zeros_(self.fc.weight)\n",
        "\n",
        "\n",
        "        # elif mode==\"Random\":\n",
        "        #   torch.nn.init.normal_(self.conv1.weight)\n",
        "        #   torch.nn.init.normal_(self.conv2.weight)\n",
        "        #   torch.nn.init.normal_(self.fc.weight)\n",
        "\n",
        "        # elif mode==\"He\":\n",
        "        #   torch.nn.init.kaiming_uniform_(self.conv1.weight)\n",
        "        #   torch.nn.init.kaiming_uniform_(self.conv2.weight)\n",
        "        #   torch.nn.init.kaiming_uniform_(self.fc.weight)\n",
        "        \n",
        "    def forward(self, x):\n",
        "        x = self.conv1(x)\n",
        "        x=self.relu1(x)\n",
        "\n",
        "        x=self.conv2(x)\n",
        "        x=self.relu2(x)\n",
        "        \n",
        "        x = torch.flatten(x, start_dim=1)\n",
        "        \n",
        "        # Classification head\n",
        "        x = self.fc(x)      \n",
        "\n",
        "        # if self.drops==\"after_conv\":\n",
        "        #   x = self.drop(x)\n",
        "        # x = torch.flatten(x, 1) \n",
        "        # x = self.fc1(x)\n",
        "\n",
        "        # if self.drops==\"after_fc\":\n",
        "        #   x = self.drop(x)\n",
        "        \n",
        "        return x\n",
        "      \n",
        "    # def get_features(self, x):\n",
        "    #     x = self.conv1(x)\n",
        "    #     x=self.relu1(x)\n",
        "    #     x = self.conv2(x)\n",
        "    #     x=self.relu2(x)\n",
        "        \n",
        "    #     x = torch.flatten(x, 1) \n",
        "    #     return x\n",
        "      \n",
        "    # def get_outs(self, x):\n",
        "\n",
        "    #     x = self.relu1(self.conv1(x))\n",
        "    #     y = self.relu2(self.conv2(x))\n",
        "     \n",
        "    #     return x,y\n",
        "\n",
        "    \n",
        "# def my_loss(outputs,labels):\n",
        "#   loss = torch.mean(-labels*torch.log(outputs)-(1-labels)*torch.log((1-outputs)))\n",
        "#   return loss"
      ],
      "metadata": {
        "id": "6Ryj63uDzt0k"
      },
      "execution_count": null,
      "outputs": []
    },
    {
      "cell_type": "code",
      "source": [
        "model = Model()\n",
        "optimizer = Adam(model.parameters(), lr=0.001)\n",
        "criterion =  nn.CrossEntropyLoss()"
      ],
      "metadata": {
        "id": "edEiNhbJ0COP"
      },
      "execution_count": null,
      "outputs": []
    },
    {
      "cell_type": "code",
      "source": [
        "device = torch.device(\"cuda\" if torch.cuda.is_available() else \"cpu\")"
      ],
      "metadata": {
        "id": "mTDXVq590cg6"
      },
      "execution_count": null,
      "outputs": []
    },
    {
      "cell_type": "code",
      "source": [
        "wandb.init(\n",
        "    # set the wandb project where this run will be logged\n",
        "    project=\"Q1\",\n",
        ")\n",
        "## command to log gradients to wandb\n",
        "wandb.watch(model)  ## pass name of model for which we want to log gradients, helps for analysis\n",
        "\n",
        "\n",
        "total_loss_train = []\n",
        "total_loss_validation = []\n",
        "\n",
        "\n",
        "## command to log gradients to wandb\n",
        "# wandb.watch(model)  ## pass name of model for which we want to log gradients, helps for analysis\n",
        "epochs = 10\n",
        "for epoch in range(epochs):  \n",
        "    # print(epoch + 1)\n",
        "    \n",
        "    batch_loss_train=0\n",
        "    batch_loss_val=0\n",
        "\n",
        "    num_batches = 0\n",
        "    correct = 0\n",
        "    total = 0\n",
        "    cnt=0\n",
        "    for i, data in enumerate(trainloader, 0):\n",
        "        \n",
        "\n",
        "\n",
        "        inputs, labels = data\n",
        "        inputs, labels = inputs.to(device), labels.to(device)\n",
        "\n",
        "        optimizer.zero_grad()\n",
        "        outputs = model(inputs)\n",
        "        labels = labels.reshape((len(labels),))\n",
        "       \n",
        "        total += labels.size(0)\n",
        "        cnt+=1\n",
        "\n",
        "        train_pred = torch.max(outputs, 1).indices\n",
        "        correct += int(torch.sum(train_pred == labels))\n",
        "        \n",
        "        loss = criterion(outputs, labels)\n",
        "        loss.backward()\n",
        "        optimizer.step()\n",
        "\n",
        "        batch_loss_train+=loss.item()\n",
        "        running_loss = loss.item()\n",
        "        # print('[epoch, batch] =  [%d, %5d] loss: %.6f' %(epoch + 1, i, running_loss))\n",
        "        num_batches+=1\n",
        "        # print(num_batches)\n",
        "\n",
        "    batch_loss_train/=num_batches\n",
        "    acc = 100 * correct / total\n",
        "\n",
        "    wandb.log(\n",
        "          {\"train accuracy\" : acc,\"train loss\":batch_loss_train}\n",
        "          )\n",
        "\n",
        "    print(\"Trainging Accuracy \",acc)\n",
        "    print(\"Trianing Loss \",batch_loss_train)\n",
        "\n",
        "    total_loss_train.append(batch_loss_train)\n",
        "    \n",
        "    # Valdiation Loop\n",
        "    with torch.no_grad():\n",
        "      correct = 0\n",
        "      total = 0\n",
        "      cnt=0\n",
        "      # ✨ W&B: parameters\n",
        "      log_counter = 0\n",
        "      NUM_BATCHES_TO_LOG = 10\n",
        "      NUM_IMAGES_PER_BATCH = 64\n",
        "      i=-1\n",
        "      for data in valloader:\n",
        "          i+=1\n",
        "          inputs, labels = data\n",
        "          inputs, labels = inputs.to(device), labels.to(device)\n",
        "\n",
        "          # Get Prediction\n",
        "          outputs = model(inputs)\n",
        "\n",
        "          # Compute loss \n",
        "          total += labels.size(0)\n",
        "          cnt+=1\n",
        "          #labels = labels.float()\n",
        "          labels = labels.reshape((len(labels),))\n",
        "          \n",
        "          #print(outputs.shape)\n",
        "          loss_val = criterion(outputs, labels)\n",
        "          batch_loss_val += loss_val.item()\n",
        "          \n",
        "\n",
        "          out_cpu = outputs.cpu()\n",
        "          predicted = [np.argmax(x) for x in out_cpu]\n",
        "          predicted = torch.Tensor(predicted).to(device)\n",
        "          correct += (predicted == labels).sum().item()\n",
        "\n",
        "  \n",
        "      acc = 100 * correct / total\n",
        "      total_loss_validation += [batch_loss_val/cnt]\n",
        "      # ✨ W&B: Log accuracy across training epochs, to visualize in the UI\n",
        "     \n",
        "\n",
        "      print(\"Validation loss is \",batch_loss_val/cnt)\n",
        "      print(\"Validation Acc is \", acc)\n",
        "\n",
        "      wandb.log(\n",
        "          {\"val accuracy\" :acc ,\"val loss\":batch_loss_val/cnt}\n",
        "          )\n",
        "\n",
        "print('Finished Training')"
      ],
      "metadata": {
        "colab": {
          "base_uri": "https://localhost:8080/",
          "height": 852
        },
        "id": "-ETzW_gyz2It",
        "outputId": "c640552c-1dd9-484e-cea5-4de9c39266ca"
      },
      "execution_count": null,
      "outputs": [
        {
          "output_type": "stream",
          "name": "stderr",
          "text": [
            "\u001b[34m\u001b[1mwandb\u001b[0m: Currently logged in as: \u001b[33mishit20380\u001b[0m (\u001b[33mdrake\u001b[0m). Use \u001b[1m`wandb login --relogin`\u001b[0m to force relogin\n"
          ]
        },
        {
          "output_type": "display_data",
          "data": {
            "text/plain": [
              "<IPython.core.display.HTML object>"
            ],
            "text/html": [
              "Tracking run with wandb version 0.13.10"
            ]
          },
          "metadata": {}
        },
        {
          "output_type": "display_data",
          "data": {
            "text/plain": [
              "<IPython.core.display.HTML object>"
            ],
            "text/html": [
              "Run data is saved locally in <code>/content/wandb/run-20230221_100952-58tu7oo0</code>"
            ]
          },
          "metadata": {}
        },
        {
          "output_type": "display_data",
          "data": {
            "text/plain": [
              "<IPython.core.display.HTML object>"
            ],
            "text/html": [
              "Syncing run <strong><a href='https://wandb.ai/drake/Q1/runs/58tu7oo0' target=\"_blank\">peach-terrain-22</a></strong> to <a href='https://wandb.ai/drake/Q1' target=\"_blank\">Weights & Biases</a> (<a href='https://wandb.me/run' target=\"_blank\">docs</a>)<br/>"
            ]
          },
          "metadata": {}
        },
        {
          "output_type": "display_data",
          "data": {
            "text/plain": [
              "<IPython.core.display.HTML object>"
            ],
            "text/html": [
              " View project at <a href='https://wandb.ai/drake/Q1' target=\"_blank\">https://wandb.ai/drake/Q1</a>"
            ]
          },
          "metadata": {}
        },
        {
          "output_type": "display_data",
          "data": {
            "text/plain": [
              "<IPython.core.display.HTML object>"
            ],
            "text/html": [
              " View run at <a href='https://wandb.ai/drake/Q1/runs/58tu7oo0' target=\"_blank\">https://wandb.ai/drake/Q1/runs/58tu7oo0</a>"
            ]
          },
          "metadata": {}
        },
        {
          "output_type": "stream",
          "name": "stdout",
          "text": [
            "Trainging Accuracy  74.30620143410039\n",
            "Trianing Loss  0.8570001710227722\n",
            "Validation loss is  0.6584860882033472\n",
            "Validation Acc is  79.75426621160409\n",
            "Trainging Accuracy  83.04731331193183\n",
            "Trianing Loss  0.5885266236059954\n",
            "Validation loss is  0.5822001120318537\n",
            "Validation Acc is  82.60750853242321\n",
            "Trainging Accuracy  85.06045423179623\n",
            "Trianing Loss  0.5191140502777072\n",
            "Validation loss is  0.5350397979435714\n",
            "Validation Acc is  84.12286689419795\n",
            "Trainging Accuracy  86.27103897272809\n",
            "Trianing Loss  0.4786605619308816\n",
            "Validation loss is  0.5246119696161021\n",
            "Validation Acc is  84.42320819112628\n",
            "Trainging Accuracy  87.06909483663857\n",
            "Trianing Loss  0.44565832606318356\n",
            "Validation loss is  0.5106082136216371\n",
            "Validation Acc is  84.90102389078498\n",
            "Trainging Accuracy  87.89265248567399\n",
            "Trianing Loss  0.41581990772182564\n",
            "Validation loss is  0.49673931793026305\n",
            "Validation Acc is  85.28327645051195\n",
            "Trainging Accuracy  88.46269238846719\n",
            "Trianing Loss  0.39461493214696014\n",
            "Validation loss is  0.5208785000054733\n",
            "Validation Acc is  84.7098976109215\n",
            "Trainging Accuracy  89.28324982748792\n",
            "Trianing Loss  0.3687690606201336\n",
            "Validation loss is  0.5443738369838051\n",
            "Validation Acc is  84.02730375426621\n",
            "Trainging Accuracy  89.74828237976658\n",
            "Trianing Loss  0.34793841682245774\n",
            "Validation loss is  0.5111758399268855\n",
            "Validation Acc is  85.03754266211604\n",
            "Trainging Accuracy  90.26431850229515\n",
            "Trianing Loss  0.3292982563834044\n",
            "Validation loss is  0.5271566208290017\n",
            "Validation Acc is  85.13310580204778\n",
            "Finished Training\n"
          ]
        }
      ]
    },
    {
      "cell_type": "code",
      "source": [
        "true = torch.tensor([]).to(device)\n",
        "pred = torch.tensor([]).to(device)\n",
        "      \n",
        "\n",
        "from torchmetrics.classification import F1Score\n",
        "# print(f1_true)\n",
        "# print(f1_pred)\n",
        "\n",
        "\n",
        "true_val = torch.tensor([]).to(device)\n",
        "pred_val = torch.tensor([]).to(device)\n",
        "ll = 0\n",
        "\n",
        "\n",
        "missclassified_images = []\n",
        "missclassified_images_label = []\n",
        "missclassified_images_pred = []\n",
        "\n",
        "total_loss_validation = []\n",
        "\n",
        "with torch.no_grad():\n",
        "      correct = 0\n",
        "      total = 0\n",
        "      cnt=0\n",
        "      # ✨ W&B: parameters\n",
        "      log_counter = 0\n",
        "      NUM_BATCHES_TO_LOG = 10\n",
        "      NUM_IMAGES_PER_BATCH = 64\n",
        "      i=-1\n",
        "      batch_loss_val= 0\n",
        "      for data in testloader:\n",
        "          \n",
        "          i+=1\n",
        "          inputs, labels = data\n",
        "          inputs, labels = inputs.to(device), labels.to(device)\n",
        "\n",
        "          # Get Prediction\n",
        "          outputs = model(inputs)\n",
        "\n",
        "          # Compute loss \n",
        "          total += labels.size(0)\n",
        "          cnt+=1\n",
        "          #labels = labels.float()\n",
        "          labels = labels.reshape((len(labels),))\n",
        "          \n",
        "          #print(outputs.shape)\n",
        "          loss_val = criterion(outputs, labels)\n",
        "          batch_loss_val += loss_val.item()\n",
        "          \n",
        "\n",
        "          out_cpu = outputs.cpu()\n",
        "          predicted = [np.argmax(x) for x in out_cpu]\n",
        "          predicted = torch.Tensor(predicted).to(device)\n",
        "          correct += (predicted == labels).sum().item()\n",
        "\n",
        "          for r in range(len(predicted)):\n",
        "            if(predicted[r] != labels[r]):\n",
        "              missclassified_images.append(inputs[r])\n",
        "              missclassified_images_label.append(labels[r])\n",
        "              missclassified_images_pred.append(predicted[r])\n",
        "          true_val = torch.cat((true_val, labels))\n",
        "          pred_val = torch.cat((pred_val, predicted))\n",
        "\n",
        "          \n",
        "\n",
        "          ll+=len(labels)\n",
        "  \n",
        "      acc = 100 * correct / total\n",
        "      total_loss_validation += [batch_loss_val/cnt]\n",
        "\n",
        "      \n",
        "      # ✨ W&B: Log accuracy across training epochs, to visualize in the UI\n",
        "     \n",
        "\n",
        "\n",
        "f1 = F1Score(task=\"multiclass\", num_classes=10)\n",
        "print(f1(pred_val.cpu(), true_val.cpu()))\n",
        "# print(test_accuracy_epoch*100)\n",
        "print(acc)      \n",
        "print('Finished Testing...')\n",
        "\n"
      ],
      "metadata": {
        "colab": {
          "base_uri": "https://localhost:8080/"
        },
        "id": "eFeNFL2GnGvO",
        "outputId": "be826282-b1e1-4d5e-d77e-f9c62f581d83"
      },
      "execution_count": null,
      "outputs": [
        {
          "output_type": "stream",
          "name": "stdout",
          "text": [
            "tensor(0.8504)\n",
            "85.0385639205515\n",
            "Finished Testing...\n"
          ]
        }
      ]
    },
    {
      "cell_type": "code",
      "source": [
        "all_labels = [0,1,2,3,4,5,6,7,8,9]\n",
        "# preds = pred_val.cpu().numpy().astype(int)\n",
        "# y_true = true_val.cpu().numpy().astype(int)\n",
        "preds = []\n",
        "y_true = []\n",
        "for i in pred_val.cpu():\n",
        "    preds.append((int(i.item())))\n",
        "for i in true_val.cpu():\n",
        "    y_true.append((int(i.item())))\n",
        "\n",
        "wandb.log({\"my_conf_mat_id\" : wandb.plot.confusion_matrix( \n",
        "            preds=preds, y_true=y_true,\n",
        "            class_names=all_labels)})"
      ],
      "metadata": {
        "id": "8kaWRXUwps3W"
      },
      "execution_count": null,
      "outputs": []
    },
    {
      "cell_type": "code",
      "source": [
        "filename = '/content/gdrive/MyDrive/Datasets/cnn.sav'\n",
        "pickle.dump(model, open(filename, 'wb'))"
      ],
      "metadata": {
        "id": "qchUuU3dQSU_"
      },
      "execution_count": null,
      "outputs": []
    },
    {
      "cell_type": "code",
      "source": [],
      "metadata": {
        "id": "srrjFxh3Mlop"
      },
      "execution_count": null,
      "outputs": []
    }
  ]
}