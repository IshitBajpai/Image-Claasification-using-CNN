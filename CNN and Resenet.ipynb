{
  "nbformat": 4,
  "nbformat_minor": 0,
  "metadata": {
    "colab": {
      "provenance": [],
      "collapsed_sections": [
        "owdlsThLovhb"
      ]
    },
    "kernelspec": {
      "name": "python3",
      "display_name": "Python 3"
    },
    "language_info": {
      "name": "python"
    },
    "widgets": {
      "application/vnd.jupyter.widget-state+json": {
        "35f73b5fa1d5427482e669f7dd4a451e": {
          "model_module": "@jupyter-widgets/controls",
          "model_name": "HBoxModel",
          "model_module_version": "1.5.0",
          "state": {
            "_dom_classes": [],
            "_model_module": "@jupyter-widgets/controls",
            "_model_module_version": "1.5.0",
            "_model_name": "HBoxModel",
            "_view_count": null,
            "_view_module": "@jupyter-widgets/controls",
            "_view_module_version": "1.5.0",
            "_view_name": "HBoxView",
            "box_style": "",
            "children": [
              "IPY_MODEL_2d30e2cdc1ab48f2b6041a8f29a2f166",
              "IPY_MODEL_b6075ffcc4044cc08fefb6845bd43eea",
              "IPY_MODEL_7d1e93425f1246909d315207de1653ff"
            ],
            "layout": "IPY_MODEL_e749c82920af4d77afbaa0a34e33985a"
          }
        },
        "2d30e2cdc1ab48f2b6041a8f29a2f166": {
          "model_module": "@jupyter-widgets/controls",
          "model_name": "HTMLModel",
          "model_module_version": "1.5.0",
          "state": {
            "_dom_classes": [],
            "_model_module": "@jupyter-widgets/controls",
            "_model_module_version": "1.5.0",
            "_model_name": "HTMLModel",
            "_view_count": null,
            "_view_module": "@jupyter-widgets/controls",
            "_view_module_version": "1.5.0",
            "_view_name": "HTMLView",
            "description": "",
            "description_tooltip": null,
            "layout": "IPY_MODEL_49d2c91da4ad4266b20f78b6a0dc9f1e",
            "placeholder": "​",
            "style": "IPY_MODEL_49d94b211bf8451783454fad749eb058",
            "value": "100%"
          }
        },
        "b6075ffcc4044cc08fefb6845bd43eea": {
          "model_module": "@jupyter-widgets/controls",
          "model_name": "FloatProgressModel",
          "model_module_version": "1.5.0",
          "state": {
            "_dom_classes": [],
            "_model_module": "@jupyter-widgets/controls",
            "_model_module_version": "1.5.0",
            "_model_name": "FloatProgressModel",
            "_view_count": null,
            "_view_module": "@jupyter-widgets/controls",
            "_view_module_version": "1.5.0",
            "_view_name": "ProgressView",
            "bar_style": "success",
            "description": "",
            "description_tooltip": null,
            "layout": "IPY_MODEL_af7660c78e8a49d0b8e19dddbc1c5e84",
            "max": 46830571,
            "min": 0,
            "orientation": "horizontal",
            "style": "IPY_MODEL_5eff6b476f814f369bd1e0629210b1ee",
            "value": 46830571
          }
        },
        "7d1e93425f1246909d315207de1653ff": {
          "model_module": "@jupyter-widgets/controls",
          "model_name": "HTMLModel",
          "model_module_version": "1.5.0",
          "state": {
            "_dom_classes": [],
            "_model_module": "@jupyter-widgets/controls",
            "_model_module_version": "1.5.0",
            "_model_name": "HTMLModel",
            "_view_count": null,
            "_view_module": "@jupyter-widgets/controls",
            "_view_module_version": "1.5.0",
            "_view_name": "HTMLView",
            "description": "",
            "description_tooltip": null,
            "layout": "IPY_MODEL_9cbc4a879d054c0dad1aebf183d4d459",
            "placeholder": "​",
            "style": "IPY_MODEL_89dc11116aed47218c38b455473fe260",
            "value": " 44.7M/44.7M [00:00&lt;00:00, 223MB/s]"
          }
        },
        "e749c82920af4d77afbaa0a34e33985a": {
          "model_module": "@jupyter-widgets/base",
          "model_name": "LayoutModel",
          "model_module_version": "1.2.0",
          "state": {
            "_model_module": "@jupyter-widgets/base",
            "_model_module_version": "1.2.0",
            "_model_name": "LayoutModel",
            "_view_count": null,
            "_view_module": "@jupyter-widgets/base",
            "_view_module_version": "1.2.0",
            "_view_name": "LayoutView",
            "align_content": null,
            "align_items": null,
            "align_self": null,
            "border": null,
            "bottom": null,
            "display": null,
            "flex": null,
            "flex_flow": null,
            "grid_area": null,
            "grid_auto_columns": null,
            "grid_auto_flow": null,
            "grid_auto_rows": null,
            "grid_column": null,
            "grid_gap": null,
            "grid_row": null,
            "grid_template_areas": null,
            "grid_template_columns": null,
            "grid_template_rows": null,
            "height": null,
            "justify_content": null,
            "justify_items": null,
            "left": null,
            "margin": null,
            "max_height": null,
            "max_width": null,
            "min_height": null,
            "min_width": null,
            "object_fit": null,
            "object_position": null,
            "order": null,
            "overflow": null,
            "overflow_x": null,
            "overflow_y": null,
            "padding": null,
            "right": null,
            "top": null,
            "visibility": null,
            "width": null
          }
        },
        "49d2c91da4ad4266b20f78b6a0dc9f1e": {
          "model_module": "@jupyter-widgets/base",
          "model_name": "LayoutModel",
          "model_module_version": "1.2.0",
          "state": {
            "_model_module": "@jupyter-widgets/base",
            "_model_module_version": "1.2.0",
            "_model_name": "LayoutModel",
            "_view_count": null,
            "_view_module": "@jupyter-widgets/base",
            "_view_module_version": "1.2.0",
            "_view_name": "LayoutView",
            "align_content": null,
            "align_items": null,
            "align_self": null,
            "border": null,
            "bottom": null,
            "display": null,
            "flex": null,
            "flex_flow": null,
            "grid_area": null,
            "grid_auto_columns": null,
            "grid_auto_flow": null,
            "grid_auto_rows": null,
            "grid_column": null,
            "grid_gap": null,
            "grid_row": null,
            "grid_template_areas": null,
            "grid_template_columns": null,
            "grid_template_rows": null,
            "height": null,
            "justify_content": null,
            "justify_items": null,
            "left": null,
            "margin": null,
            "max_height": null,
            "max_width": null,
            "min_height": null,
            "min_width": null,
            "object_fit": null,
            "object_position": null,
            "order": null,
            "overflow": null,
            "overflow_x": null,
            "overflow_y": null,
            "padding": null,
            "right": null,
            "top": null,
            "visibility": null,
            "width": null
          }
        },
        "49d94b211bf8451783454fad749eb058": {
          "model_module": "@jupyter-widgets/controls",
          "model_name": "DescriptionStyleModel",
          "model_module_version": "1.5.0",
          "state": {
            "_model_module": "@jupyter-widgets/controls",
            "_model_module_version": "1.5.0",
            "_model_name": "DescriptionStyleModel",
            "_view_count": null,
            "_view_module": "@jupyter-widgets/base",
            "_view_module_version": "1.2.0",
            "_view_name": "StyleView",
            "description_width": ""
          }
        },
        "af7660c78e8a49d0b8e19dddbc1c5e84": {
          "model_module": "@jupyter-widgets/base",
          "model_name": "LayoutModel",
          "model_module_version": "1.2.0",
          "state": {
            "_model_module": "@jupyter-widgets/base",
            "_model_module_version": "1.2.0",
            "_model_name": "LayoutModel",
            "_view_count": null,
            "_view_module": "@jupyter-widgets/base",
            "_view_module_version": "1.2.0",
            "_view_name": "LayoutView",
            "align_content": null,
            "align_items": null,
            "align_self": null,
            "border": null,
            "bottom": null,
            "display": null,
            "flex": null,
            "flex_flow": null,
            "grid_area": null,
            "grid_auto_columns": null,
            "grid_auto_flow": null,
            "grid_auto_rows": null,
            "grid_column": null,
            "grid_gap": null,
            "grid_row": null,
            "grid_template_areas": null,
            "grid_template_columns": null,
            "grid_template_rows": null,
            "height": null,
            "justify_content": null,
            "justify_items": null,
            "left": null,
            "margin": null,
            "max_height": null,
            "max_width": null,
            "min_height": null,
            "min_width": null,
            "object_fit": null,
            "object_position": null,
            "order": null,
            "overflow": null,
            "overflow_x": null,
            "overflow_y": null,
            "padding": null,
            "right": null,
            "top": null,
            "visibility": null,
            "width": null
          }
        },
        "5eff6b476f814f369bd1e0629210b1ee": {
          "model_module": "@jupyter-widgets/controls",
          "model_name": "ProgressStyleModel",
          "model_module_version": "1.5.0",
          "state": {
            "_model_module": "@jupyter-widgets/controls",
            "_model_module_version": "1.5.0",
            "_model_name": "ProgressStyleModel",
            "_view_count": null,
            "_view_module": "@jupyter-widgets/base",
            "_view_module_version": "1.2.0",
            "_view_name": "StyleView",
            "bar_color": null,
            "description_width": ""
          }
        },
        "9cbc4a879d054c0dad1aebf183d4d459": {
          "model_module": "@jupyter-widgets/base",
          "model_name": "LayoutModel",
          "model_module_version": "1.2.0",
          "state": {
            "_model_module": "@jupyter-widgets/base",
            "_model_module_version": "1.2.0",
            "_model_name": "LayoutModel",
            "_view_count": null,
            "_view_module": "@jupyter-widgets/base",
            "_view_module_version": "1.2.0",
            "_view_name": "LayoutView",
            "align_content": null,
            "align_items": null,
            "align_self": null,
            "border": null,
            "bottom": null,
            "display": null,
            "flex": null,
            "flex_flow": null,
            "grid_area": null,
            "grid_auto_columns": null,
            "grid_auto_flow": null,
            "grid_auto_rows": null,
            "grid_column": null,
            "grid_gap": null,
            "grid_row": null,
            "grid_template_areas": null,
            "grid_template_columns": null,
            "grid_template_rows": null,
            "height": null,
            "justify_content": null,
            "justify_items": null,
            "left": null,
            "margin": null,
            "max_height": null,
            "max_width": null,
            "min_height": null,
            "min_width": null,
            "object_fit": null,
            "object_position": null,
            "order": null,
            "overflow": null,
            "overflow_x": null,
            "overflow_y": null,
            "padding": null,
            "right": null,
            "top": null,
            "visibility": null,
            "width": null
          }
        },
        "89dc11116aed47218c38b455473fe260": {
          "model_module": "@jupyter-widgets/controls",
          "model_name": "DescriptionStyleModel",
          "model_module_version": "1.5.0",
          "state": {
            "_model_module": "@jupyter-widgets/controls",
            "_model_module_version": "1.5.0",
            "_model_name": "DescriptionStyleModel",
            "_view_count": null,
            "_view_module": "@jupyter-widgets/base",
            "_view_module_version": "1.2.0",
            "_view_name": "StyleView",
            "description_width": ""
          }
        }
      }
    },
    "gpuClass": "standard",
    "accelerator": "GPU"
  },
  "cells": [
    {
      "cell_type": "code",
      "execution_count": null,
      "metadata": {
        "colab": {
          "base_uri": "https://localhost:8080/"
        },
        "id": "lEQjjllOHtKO",
        "outputId": "762170d5-1b67-47eb-ee0b-b95f794a3e7f"
      },
      "outputs": [
        {
          "output_type": "stream",
          "name": "stdout",
          "text": [
            "Looking in indexes: https://pypi.org/simple, https://us-python.pkg.dev/colab-wheels/public/simple/\n",
            "Requirement already satisfied: torch in /usr/local/lib/python3.8/dist-packages (1.13.1+cu116)\n",
            "Requirement already satisfied: typing-extensions in /usr/local/lib/python3.8/dist-packages (from torch) (4.5.0)\n",
            "Looking in indexes: https://pypi.org/simple, https://us-python.pkg.dev/colab-wheels/public/simple/\n",
            "Requirement already satisfied: scipy in /usr/local/lib/python3.8/dist-packages (1.7.3)\n",
            "Requirement already satisfied: numpy<1.23.0,>=1.16.5 in /usr/local/lib/python3.8/dist-packages (from scipy) (1.21.6)\n",
            "Looking in indexes: https://pypi.org/simple, https://us-python.pkg.dev/colab-wheels/public/simple/\n",
            "Requirement already satisfied: torchmetrics in /usr/local/lib/python3.8/dist-packages (0.11.1)\n",
            "Requirement already satisfied: torch>=1.8.1 in /usr/local/lib/python3.8/dist-packages (from torchmetrics) (1.13.1+cu116)\n",
            "Requirement already satisfied: packaging in /usr/local/lib/python3.8/dist-packages (from torchmetrics) (23.0)\n",
            "Requirement already satisfied: numpy>=1.17.2 in /usr/local/lib/python3.8/dist-packages (from torchmetrics) (1.21.6)\n",
            "Requirement already satisfied: typing-extensions in /usr/local/lib/python3.8/dist-packages (from torchmetrics) (4.5.0)\n",
            "Looking in indexes: https://pypi.org/simple, https://us-python.pkg.dev/colab-wheels/public/simple/\n",
            "Requirement already satisfied: wandb in /usr/local/lib/python3.8/dist-packages (0.13.10)\n",
            "Requirement already satisfied: pathtools in /usr/local/lib/python3.8/dist-packages (from wandb) (0.1.2)\n",
            "Requirement already satisfied: typing-extensions in /usr/local/lib/python3.8/dist-packages (from wandb) (4.5.0)\n",
            "Requirement already satisfied: psutil>=5.0.0 in /usr/local/lib/python3.8/dist-packages (from wandb) (5.4.8)\n",
            "Requirement already satisfied: setproctitle in /usr/local/lib/python3.8/dist-packages (from wandb) (1.3.2)\n",
            "Requirement already satisfied: appdirs>=1.4.3 in /usr/local/lib/python3.8/dist-packages (from wandb) (1.4.4)\n",
            "Requirement already satisfied: sentry-sdk>=1.0.0 in /usr/local/lib/python3.8/dist-packages (from wandb) (1.15.0)\n",
            "Requirement already satisfied: PyYAML in /usr/local/lib/python3.8/dist-packages (from wandb) (6.0)\n",
            "Requirement already satisfied: Click!=8.0.0,>=7.0 in /usr/local/lib/python3.8/dist-packages (from wandb) (7.1.2)\n",
            "Requirement already satisfied: setuptools in /usr/local/lib/python3.8/dist-packages (from wandb) (57.4.0)\n",
            "Requirement already satisfied: docker-pycreds>=0.4.0 in /usr/local/lib/python3.8/dist-packages (from wandb) (0.4.0)\n",
            "Requirement already satisfied: GitPython>=1.0.0 in /usr/local/lib/python3.8/dist-packages (from wandb) (3.1.31)\n",
            "Requirement already satisfied: protobuf!=4.21.0,<5,>=3.12.0 in /usr/local/lib/python3.8/dist-packages (from wandb) (3.19.6)\n",
            "Requirement already satisfied: requests<3,>=2.0.0 in /usr/local/lib/python3.8/dist-packages (from wandb) (2.25.1)\n",
            "Requirement already satisfied: six>=1.4.0 in /usr/local/lib/python3.8/dist-packages (from docker-pycreds>=0.4.0->wandb) (1.15.0)\n",
            "Requirement already satisfied: gitdb<5,>=4.0.1 in /usr/local/lib/python3.8/dist-packages (from GitPython>=1.0.0->wandb) (4.0.10)\n",
            "Requirement already satisfied: urllib3<1.27,>=1.21.1 in /usr/local/lib/python3.8/dist-packages (from requests<3,>=2.0.0->wandb) (1.26.14)\n",
            "Requirement already satisfied: chardet<5,>=3.0.2 in /usr/local/lib/python3.8/dist-packages (from requests<3,>=2.0.0->wandb) (4.0.0)\n",
            "Requirement already satisfied: certifi>=2017.4.17 in /usr/local/lib/python3.8/dist-packages (from requests<3,>=2.0.0->wandb) (2022.12.7)\n",
            "Requirement already satisfied: idna<3,>=2.5 in /usr/local/lib/python3.8/dist-packages (from requests<3,>=2.0.0->wandb) (2.10)\n",
            "Requirement already satisfied: smmap<6,>=3.0.1 in /usr/local/lib/python3.8/dist-packages (from gitdb<5,>=4.0.1->GitPython>=1.0.0->wandb) (5.0.0)\n"
          ]
        }
      ],
      "source": [
        "!pip install torch\n",
        "!pip install scipy \n",
        "!pip install torchmetrics\n",
        "!pip install wandb"
      ]
    },
    {
      "cell_type": "code",
      "source": [
        "import os\n",
        "from PIL import Image\n",
        "import random\n",
        "import torch\n",
        "import torch.nn as nn\n",
        "import torchvision\n",
        "import torchvision.transforms as transforms\n",
        "import torch.optim as optim\n",
        "import matplotlib.pyplot as plt\n",
        "import torch.nn.functional as F\n",
        "import numpy as np\n",
        "from torch.utils.data.sampler import SubsetRandomSampler\n",
        "import pickle\n",
        "from sklearn import manifold\n",
        "import pandas as pd\n",
        "import seaborn as sns\n",
        "from sklearn.metrics import classification_report\n",
        "import scipy.io\n",
        "from google.colab import drive\n",
        "drive.mount(\"/content/gdrive\",force_remount=True)"
      ],
      "metadata": {
        "id": "cuFx9Nc2IuZK",
        "colab": {
          "base_uri": "https://localhost:8080/"
        },
        "outputId": "141bb0d3-744e-45f9-9208-4a8086f0edf9"
      },
      "execution_count": null,
      "outputs": [
        {
          "output_type": "stream",
          "name": "stdout",
          "text": [
            "Mounted at /content/gdrive\n"
          ]
        }
      ]
    },
    {
      "cell_type": "code",
      "source": [
        "import os\n",
        "from time import time\n",
        "from tqdm import tqdm\n",
        "import numpy\n",
        "\n",
        "import torch\n",
        "from torch.nn import Linear, CrossEntropyLoss\n",
        "from torch.optim import Adam\n",
        "from torch.utils.data import DataLoader\n",
        "\n",
        "import torchvision\n",
        "from torchvision.datasets import ImageFolder\n",
        "from torchvision.models import resnet18\n",
        "from torchvision.transforms import transforms"
      ],
      "metadata": {
        "id": "C2q0gSgY7CGJ"
      },
      "execution_count": null,
      "outputs": []
    },
    {
      "cell_type": "code",
      "source": [
        "import wandb\n",
        "wandb.login(key=\"1262a78bcdb91721d1f31364cec1d26409dd981e\")"
      ],
      "metadata": {
        "colab": {
          "base_uri": "https://localhost:8080/"
        },
        "id": "9tuanrrLMipf",
        "outputId": "a0d2ec24-627c-4145-be0f-610e3ed6e79a"
      },
      "execution_count": null,
      "outputs": [
        {
          "output_type": "stream",
          "name": "stderr",
          "text": [
            "\u001b[34m\u001b[1mwandb\u001b[0m: W&B API key is configured. Use \u001b[1m`wandb login --relogin`\u001b[0m to force relogin\n",
            "\u001b[34m\u001b[1mwandb\u001b[0m: \u001b[33mWARNING\u001b[0m If you're specifying your api key in code, ensure this code is not shared publicly.\n",
            "\u001b[34m\u001b[1mwandb\u001b[0m: \u001b[33mWARNING\u001b[0m Consider setting the WANDB_API_KEY environment variable, or running `wandb login` from the command line.\n",
            "\u001b[34m\u001b[1mwandb\u001b[0m: Appending key for api.wandb.ai to your netrc file: /root/.netrc\n"
          ]
        },
        {
          "output_type": "execute_result",
          "data": {
            "text/plain": [
              "True"
            ]
          },
          "metadata": {},
          "execution_count": 4
        }
      ]
    },
    {
      "cell_type": "markdown",
      "source": [
        "## PART 1"
      ],
      "metadata": {
        "id": "XaXmVfUktZPC"
      }
    },
    {
      "cell_type": "code",
      "source": [
        "import glob\n",
        "import cv2\n",
        "import numpy as np\n",
        "import torch\n",
        "from torch.utils.data import Dataset, DataLoader\n",
        "device = torch.device(\"cuda\" if torch.cuda.is_available() else \"cpu\")\n",
        "\n",
        "data = scipy.io.loadmat(\"/content/gdrive/MyDrive/cv1.mat\")\n",
        "\n",
        "data_size = len(data['y'])\n",
        "# data_size = 20000\n",
        "data['y'][ data['y'] == 10 ] = 0\n",
        "\n",
        "\n",
        "transform = transforms.Compose(\n",
        "    \n",
        "    [   \n",
        "        transforms.ToTensor(),\n",
        "        # transforms.Resize((32,32)),\n",
        "    #  transforms.Normalize((0.5, 0.5, 0.5), (0.5, 0.5, 0.5)),\n",
        "\n",
        "     ])\n",
        "\n",
        "import os\n",
        "import pandas as pd\n",
        "from torchvision.io import read_image\n",
        "\n",
        "class CustomImageDataset(Dataset):\n",
        "    def __init__(self, data ,transform=None, target_transform=None):\n",
        "        self.img_labels = data['y']\n",
        "        self.img_dir = data['X']\n",
        "        self.transform = transform\n",
        "        self.data = data\n",
        "\n",
        "        self.target_transform = target_transform\n",
        "\n",
        "    def __len__(self):\n",
        "        return len(self.img_labels)\n",
        "\n",
        "    def __getitem__(self, idx):\n",
        "        # img_path = os.path.join(self.img_dir, self.img_labels.iloc[idx, 0])\n",
        "        image = self.img_dir[:,:,:,idx]\n",
        "        label = self.img_labels[idx]\n",
        "        if self.transform:\n",
        "            image = self.transform(image)\n",
        "            # image = image.to(device)\n",
        "        if self.target_transform:\n",
        "            label = self.target_transform(label)\n",
        "        # print(idx)\n",
        "        return image, label\n",
        "\n",
        "\n",
        "# shuffle\n",
        "indices = list(range(data_size))\n",
        "np.random.shuffle(indices)\n",
        "\n",
        "test_size =  int(  0.10*data_size )\n",
        "val_size =   int(  0.20*data_size )\n",
        "train_size = int(  0.70*data_size )\n",
        "\n",
        "test_index = indices[:test_size]\n",
        "train_index = indices[test_size:test_size+train_size]\n",
        "val_index = indices[-val_size:]\n",
        "\n",
        "g = torch.Generator()\n",
        "g.manual_seed(42)\n",
        "batch_size = 64\n",
        "\n",
        "train_sampler=SubsetRandomSampler(train_index, generator=g)\n",
        "val_sampler=SubsetRandomSampler(val_index, generator=g)\n",
        "test_sampler=SubsetRandomSampler(test_index, generator=g)\n",
        "\n",
        "xt = data['X'][:train_size]\n",
        "yt = data['y'][:train_size]\n",
        "data_train = {'X':xt,'y':yt}\n",
        "\n",
        "xt = data['X'][:test_size]\n",
        "yt = data['y'][:test_size]\n",
        "data_test = {'X':xt,'y':yt}\n",
        "\n",
        "xt = data['X'][-val_size:]\n",
        "yt = data['y'][-val_size:]\n",
        "data_val = {'X':xt,'y':yt}"
      ],
      "metadata": {
        "id": "sQBdsLqz8XXI"
      },
      "execution_count": null,
      "outputs": []
    },
    {
      "cell_type": "code",
      "source": [
        "# x = np.arange(1,10)\n",
        "# p = np.array([1,2,3])\n",
        "# x[p]"
      ],
      "metadata": {
        "id": "zBcfBlK4Zrg2"
      },
      "execution_count": null,
      "outputs": []
    },
    {
      "cell_type": "code",
      "source": [
        "# for i in range(test_size,-val_size+data_size):\n",
        "#   if(data['X'][:,:,:,i].shape!=((32, 32, 3))):\n",
        "#     print(\"yo!!\")\n",
        "#     break\n"
      ],
      "metadata": {
        "id": "Ay0wgLRa994A"
      },
      "execution_count": null,
      "outputs": []
    },
    {
      "cell_type": "code",
      "source": [
        "# train = CustomImageDataset(data_train,transform)\n",
        "# test =  CustomImageDataset(data_test,transform)\n",
        "# val =  CustomImageDataset(data_val,transform)\n",
        "\n",
        "final_dataset = CustomImageDataset(data,transform)\n",
        "\n",
        "trainloader = torch.utils.data.DataLoader(final_dataset, sampler = train_sampler, batch_size=batch_size,num_workers=2)\n",
        "valloader = torch.utils.data.DataLoader(final_dataset, sampler = val_sampler, batch_size=batch_size,num_workers=2)\n",
        "testloader = torch.utils.data.DataLoader(final_dataset, sampler = test_sampler, batch_size=batch_size,num_workers=2)"
      ],
      "metadata": {
        "id": "-Ykj4spXbJ3q"
      },
      "execution_count": null,
      "outputs": []
    },
    {
      "cell_type": "code",
      "source": [
        "dataiter = iter(trainloader)\n",
        "images, labels = dataiter.__next__()"
      ],
      "metadata": {
        "id": "J6u4yF2fIigy"
      },
      "execution_count": null,
      "outputs": []
    },
    {
      "cell_type": "code",
      "source": [
        "print(images.shape)"
      ],
      "metadata": {
        "colab": {
          "base_uri": "https://localhost:8080/"
        },
        "id": "_HPJi__WMCSt",
        "outputId": "13790988-5e72-41dc-c5ee-2ec0a32bfa2e"
      },
      "execution_count": null,
      "outputs": [
        {
          "output_type": "stream",
          "name": "stdout",
          "text": [
            "torch.Size([64, 3, 32, 32])\n"
          ]
        }
      ]
    },
    {
      "cell_type": "code",
      "source": [
        "idx = 8\n",
        "plt.imshow(images[idx].permute(1,2,0))\n",
        "print(labels[idx])"
      ],
      "metadata": {
        "colab": {
          "base_uri": "https://localhost:8080/",
          "height": 283
        },
        "id": "uGQUL0MyLteX",
        "outputId": "be9a3fc5-d542-4ff5-f807-3f6b86dcc0fc"
      },
      "execution_count": null,
      "outputs": [
        {
          "output_type": "stream",
          "name": "stdout",
          "text": [
            "tensor([7], dtype=torch.uint8)\n"
          ]
        },
        {
          "output_type": "display_data",
          "data": {
            "text/plain": [
              "<Figure size 432x288 with 1 Axes>"
            ],
            "image/png": "[encoded data removed]"
          },
          "metadata": {
            "needs_background": "light"
          }
        }
      ]
    },
    {
      "cell_type": "code",
      "source": [],
      "metadata": {
        "id": "x_5FTdL0C7QA"
      },
      "execution_count": null,
      "outputs": []
    },
    {
      "cell_type": "code",
      "source": [
        "y_train = []\n",
        "y_val = []\n",
        "\n",
        "for idx in train_index:\n",
        "  # print(type(idx))\n",
        "  if(data['y'][idx] == 0):\n",
        "      y_train.append(10)\n",
        "  else:\n",
        "      y_train.append(data['y'][idx])\n",
        "\n",
        "for idx in val_index:\n",
        "    if(data['y'][idx] == 0):\n",
        "        y_val.append(10)\n",
        "    else:\n",
        "        y_val.append(data['y'][idx])\n",
        "\n",
        "print(len(y_train)) \n",
        "print(len(y_val))"
      ],
      "metadata": {
        "id": "UJ3FRbHrd7na",
        "colab": {
          "base_uri": "https://localhost:8080/"
        },
        "outputId": "d92ad399-8b47-4f47-ab1e-b0ba5dc6c59e"
      },
      "execution_count": null,
      "outputs": [
        {
          "output_type": "stream",
          "name": "stdout",
          "text": [
            "51279\n",
            "14651\n"
          ]
        }
      ]
    },
    {
      "cell_type": "code",
      "source": [
        "y_train = np.array(y_train)\n",
        "y_val = np.array(y_val)\n",
        "\n",
        "# visualizing\n",
        "unique, counts = np.unique(y_train, return_counts=True)\n",
        "plt.bar(unique, counts, color ='maroon',\n",
        "        width = 0.4)\n",
        "plt.title(\"Train\")\n",
        "\n",
        "plt.xlabel(\"Class\")\n",
        "plt.ylabel(\"frequency\")\n",
        "plt.legend()"
      ],
      "metadata": {
        "colab": {
          "base_uri": "https://localhost:8080/",
          "height": 419
        },
        "id": "rRie4T5ac8WI",
        "outputId": "2f47849d-2cc8-48ee-da32-22903f979ff1"
      },
      "execution_count": null,
      "outputs": [
        {
          "output_type": "stream",
          "name": "stderr",
          "text": [
            "<ipython-input-53-9ec1fc2a3a59>:1: VisibleDeprecationWarning: Creating an ndarray from ragged nested sequences (which is a list-or-tuple of lists-or-tuples-or ndarrays with different lengths or shapes) is deprecated. If you meant to do this, you must specify 'dtype=object' when creating the ndarray.\n",
            "  y_train = np.array(y_train)\n",
            "<ipython-input-53-9ec1fc2a3a59>:2: VisibleDeprecationWarning: Creating an ndarray from ragged nested sequences (which is a list-or-tuple of lists-or-tuples-or ndarrays with different lengths or shapes) is deprecated. If you meant to do this, you must specify 'dtype=object' when creating the ndarray.\n",
            "  y_val = np.array(y_val)\n",
            "WARNING:matplotlib.legend:No handles with labels found to put in legend.\n"
          ]
        },
        {
          "output_type": "execute_result",
          "data": {
            "text/plain": [
              "<matplotlib.legend.Legend at 0x7fc8a99daa60>"
            ]
          },
          "metadata": {},
          "execution_count": 53
        },
        {
          "output_type": "display_data",
          "data": {
            "text/plain": [
              "<Figure size 432x288 with 1 Axes>"
            ],
            "image/png": "[encoded data removed]"
          },
          "metadata": {
            "needs_background": "light"
          }
        }
      ]
    },
    {
      "cell_type": "code",
      "source": [
        "unique, counts = np.unique(y_val, return_counts=True)\n",
        "plt.bar(unique, counts, color ='green',\n",
        "        width = 0.4)\n",
        "plt.title(\"Val\")\n",
        "\n",
        "plt.xlabel(\"Class\")\n",
        "plt.ylabel(\"frequency\")\n",
        "plt.legend()"
      ],
      "metadata": {
        "colab": {
          "base_uri": "https://localhost:8080/",
          "height": 330
        },
        "id": "_dxFU7eXfFVF",
        "outputId": "c80f082a-206e-4c94-8445-4814c33cddbd"
      },
      "execution_count": null,
      "outputs": [
        {
          "output_type": "stream",
          "name": "stderr",
          "text": [
            "WARNING:matplotlib.legend:No handles with labels found to put in legend.\n"
          ]
        },
        {
          "output_type": "execute_result",
          "data": {
            "text/plain": [
              "<matplotlib.legend.Legend at 0x7fc8a9134f70>"
            ]
          },
          "metadata": {},
          "execution_count": 54
        },
        {
          "output_type": "display_data",
          "data": {
            "text/plain": [
              "<Figure size 432x288 with 1 Axes>"
            ],
            "image/png": "[encoded data removed]"
          },
          "metadata": {
            "needs_background": "light"
          }
        }
      ]
    },
    {
      "cell_type": "markdown",
      "source": [
        "## Part 2"
      ],
      "metadata": {
        "id": "cppzDeCGfRJm"
      }
    },
    {
      "cell_type": "code",
      "source": [
        "# part (a)\n",
        "from torch.nn import Module\n",
        "from torch.nn import Conv2d\n",
        "from torch.nn import Linear\n",
        "from torch.nn import MaxPool2d\n",
        "from torch.nn import ReLU\n",
        "from torch.nn import LogSoftmax\n",
        "from torch import flatten\n",
        "\n",
        "device = torch.device(\"cuda\" if torch.cuda.is_available() else \"cpu\")\n",
        "\n",
        "class CNN(nn.Module):\n",
        "    def __init__(self):\n",
        "        super().__init__()\n",
        "        self.conv1 = nn.Conv2d(in_channels=3, out_channels=32, kernel_size=(3,3), padding=1)\n",
        "        self.relu1 = ReLU()\n",
        "        self.conv2 = nn.Conv2d(in_channels=32, out_channels=64, kernel_size=(3,3), padding=1)\n",
        "        self.relu2 = ReLU()\n",
        "        self.fc1 = nn.Linear(65536, 10)\n",
        "\n",
        "        # self.relu3 = ReLU()\n",
        "        # self.fc2 = nn.Linear(128, 10)\n",
        "        # self.logSoftmax = LogSoftmax(dim=1)\n",
        "      \n",
        "    def forward(self,x):\n",
        "        x = self.relu1((self.conv1(x)))\n",
        "        x = self.relu2((self.conv2(x)))\n",
        "        # x = relu2((self.conv2(x)))\n",
        "        x = torch.flatten(x, start_dim=1)\n",
        "        # x = self.relu3(self.fc1(x))\n",
        "        x = self.fc1(x)\n",
        "        # output = self.logSoftmax(x)\n",
        "        return x\n",
        "\n"
      ],
      "metadata": {
        "id": "ncdUsIqNM9B_"
      },
      "execution_count": null,
      "outputs": []
    },
    {
      "cell_type": "code",
      "source": [
        "from torch.autograd import Variable\n",
        "from torch.nn import Linear, ReLU, CrossEntropyLoss, Sequential, Conv2d, MaxPool2d, Module, Softmax, BatchNorm2d, Dropout\n",
        "from torch.optim import Adam, SGD\n",
        "\n",
        "model = CNN()\n",
        "# defining the optimizer\n",
        "optimizer = Adam(model.parameters(), lr=0.001)\n",
        "criterion =  nn.CrossEntropyLoss()\n",
        "# checking if GPU is available\n",
        "model = model.to(device)\n",
        "print(model)"
      ],
      "metadata": {
        "colab": {
          "base_uri": "https://localhost:8080/"
        },
        "id": "Cwqx2HAbDfSJ",
        "outputId": "247f4d4e-1d8a-4c76-df47-4c248b4d4120"
      },
      "execution_count": null,
      "outputs": [
        {
          "output_type": "stream",
          "name": "stdout",
          "text": [
            "CNN(\n",
            "  (conv1): Conv2d(3, 32, kernel_size=(3, 3), stride=(1, 1), padding=(1, 1))\n",
            "  (relu1): ReLU()\n",
            "  (conv2): Conv2d(32, 64, kernel_size=(3, 3), stride=(1, 1), padding=(1, 1))\n",
            "  (relu2): ReLU()\n",
            "  (fc1): Linear(in_features=65536, out_features=10, bias=True)\n",
            ")\n"
          ]
        }
      ]
    },
    {
      "cell_type": "code",
      "source": [
        "device = torch.device(\"cuda\" if torch.cuda.is_available() else \"cpu\")\n",
        "print(device)"
      ],
      "metadata": {
        "colab": {
          "base_uri": "https://localhost:8080/"
        },
        "id": "atZKLMqzEzvB",
        "outputId": "21b8788e-ecb0-4e55-b5ca-7edfaefc8788"
      },
      "execution_count": null,
      "outputs": [
        {
          "output_type": "stream",
          "name": "stdout",
          "text": [
            "cuda\n"
          ]
        }
      ]
    },
    {
      "cell_type": "code",
      "source": [
        "wandb.init(\n",
        "    # set the wandb project where this run will be logged\n",
        "    project=\"Q1\",\n",
        ")\n",
        "## command to log gradients to wandb\n",
        "wandb.watch(model)  ## pass name of model for which we want to log gradients, helps for analysis\n",
        "\n",
        "\n",
        "total_loss_train = []\n",
        "total_loss_validation = []\n",
        "\n",
        "\n",
        "## command to log gradients to wandb\n",
        "# wandb.watch(model)  ## pass name of model for which we want to log gradients, helps for analysis\n",
        "epochs = 10\n",
        "for epoch in range(epochs):  \n",
        "    # print(epoch + 1)\n",
        "    \n",
        "    batch_loss_train=0\n",
        "    batch_loss_val=0\n",
        "\n",
        "    num_batches = 0\n",
        "    correct = 0\n",
        "    total = 0\n",
        "    cnt=0\n",
        "    for i, data in enumerate(trainloader, 0):\n",
        "        \n",
        "\n",
        "\n",
        "        inputs, labels = data\n",
        "        inputs, labels = inputs.to(device), labels.to(device)\n",
        "\n",
        "        optimizer.zero_grad()\n",
        "        outputs = model(inputs)\n",
        "        labels = labels.reshape((len(labels),))\n",
        "       \n",
        "        total += labels.size(0)\n",
        "        cnt+=1\n",
        "\n",
        "        train_pred = torch.max(outputs, 1).indices\n",
        "        correct += int(torch.sum(train_pred == labels))\n",
        "        \n",
        "        loss = criterion(outputs, labels)\n",
        "        loss.backward()\n",
        "        optimizer.step()\n",
        "\n",
        "        batch_loss_train+=loss.item()\n",
        "        running_loss = loss.item()\n",
        "        # print('[epoch, batch] =  [%d, %5d] loss: %.6f' %(epoch + 1, i, running_loss))\n",
        "        num_batches+=1\n",
        "        # print(num_batches)\n",
        "\n",
        "    batch_loss_train/=num_batches\n",
        "    acc = 100 * correct / total\n",
        "\n",
        "    wandb.log(\n",
        "          {\"train accuracy\" : acc,\"train loss\":batch_loss_train}\n",
        "          )\n",
        "\n",
        "    print(\"Trainging Accuracy \",acc)\n",
        "    print(\"Trianing Loss \",batch_loss_train)\n",
        "\n",
        "    total_loss_train.append(batch_loss_train)\n",
        "    \n",
        "    # Valdiation Loop\n",
        "    with torch.no_grad():\n",
        "      correct = 0\n",
        "      total = 0\n",
        "      cnt=0\n",
        "      # ✨ W&B: parameters\n",
        "      log_counter = 0\n",
        "      NUM_BATCHES_TO_LOG = 10\n",
        "      NUM_IMAGES_PER_BATCH = 64\n",
        "      i=-1\n",
        "      for data in valloader:\n",
        "          i+=1\n",
        "          inputs, labels = data\n",
        "          inputs, labels = inputs.to(device), labels.to(device)\n",
        "\n",
        "          # Get Prediction\n",
        "          outputs = model(inputs)\n",
        "\n",
        "          # Compute loss \n",
        "          total += labels.size(0)\n",
        "          cnt+=1\n",
        "          #labels = labels.float()\n",
        "          labels = labels.reshape((len(labels),))\n",
        "          \n",
        "          #print(outputs.shape)\n",
        "          loss_val = criterion(outputs, labels)\n",
        "          batch_loss_val += loss_val.item()\n",
        "          \n",
        "\n",
        "          out_cpu = outputs.cpu()\n",
        "          predicted = [np.argmax(x) for x in out_cpu]\n",
        "          predicted = torch.Tensor(predicted).to(device)\n",
        "          correct += (predicted == labels).sum().item()\n",
        "\n",
        "  \n",
        "      acc = 100 * correct / total\n",
        "      total_loss_validation += [batch_loss_val/cnt]\n",
        "      #W&B: Log accuracy across training epochs, to visualize in the UI\n",
        "     \n",
        "\n",
        "      print(\"Validation loss is \",batch_loss_val/cnt)\n",
        "      print(\"Validation Acc is \", acc)\n",
        "\n",
        "      wandb.log(\n",
        "          {\"val accuracy\" :acc ,\"val loss\":batch_loss_val/cnt}\n",
        "          )\n",
        "\n",
        "print('Finished Training')"
      ],
      "metadata": {
        "colab": {
          "base_uri": "https://localhost:8080/",
          "height": 815
        },
        "id": "kZFpNXWgDnfZ",
        "outputId": "2326c724-92ec-46a6-bbbb-82ff4a583895"
      },
      "execution_count": null,
      "outputs": [
        {
          "output_type": "display_data",
          "data": {
            "text/plain": [
              "<IPython.core.display.HTML object>"
            ],
            "text/html": [
              "Tracking run with wandb version 0.13.10"
            ]
          },
          "metadata": {}
        },
        {
          "output_type": "display_data",
          "data": {
            "text/plain": [
              "<IPython.core.display.HTML object>"
            ],
            "text/html": [
              "Run data is saved locally in <code>/content/wandb/run-20230218_162153-eezbr587</code>"
            ]
          },
          "metadata": {}
        },
        {
          "output_type": "display_data",
          "data": {
            "text/plain": [
              "<IPython.core.display.HTML object>"
            ],
            "text/html": [
              "Syncing run <strong><a href='https://wandb.ai/drake/Q1/runs/eezbr587' target=\"_blank\">swift-blaze-16</a></strong> to <a href='https://wandb.ai/drake/Q1' target=\"_blank\">Weights & Biases</a> (<a href='https://wandb.me/run' target=\"_blank\">docs</a>)<br/>"
            ]
          },
          "metadata": {}
        },
        {
          "output_type": "display_data",
          "data": {
            "text/plain": [
              "<IPython.core.display.HTML object>"
            ],
            "text/html": [
              " View project at <a href='https://wandb.ai/drake/Q1' target=\"_blank\">https://wandb.ai/drake/Q1</a>"
            ]
          },
          "metadata": {}
        },
        {
          "output_type": "display_data",
          "data": {
            "text/plain": [
              "<IPython.core.display.HTML object>"
            ],
            "text/html": [
              " View run at <a href='https://wandb.ai/drake/Q1/runs/eezbr587' target=\"_blank\">https://wandb.ai/drake/Q1/runs/eezbr587</a>"
            ]
          },
          "metadata": {}
        },
        {
          "output_type": "stream",
          "name": "stdout",
          "text": [
            "Trainging Accuracy  44.68885898710973\n",
            "Trianing Loss  1.661302262410856\n",
            "Validation loss is  1.0196425834076894\n",
            "Validation Acc is  68.99187768752986\n",
            "Trainging Accuracy  76.9398779227364\n",
            "Trianing Loss  0.775113595579925\n",
            "Validation loss is  0.6584371346573642\n",
            "Validation Acc is  81.15486997474575\n",
            "Trainging Accuracy  83.49811813802921\n",
            "Trianing Loss  0.5744765225119721\n",
            "Validation loss is  0.5841329142646497\n",
            "Validation Acc is  83.5233089891475\n",
            "Trainging Accuracy  85.5886425242302\n",
            "Trianing Loss  0.5014002423482643\n",
            "Validation loss is  0.5615474331847445\n",
            "Validation Acc is  84.40379496280117\n",
            "Trainging Accuracy  87.00052653132862\n",
            "Trianing Loss  0.4546729487336782\n",
            "Validation loss is  0.5659140012019587\n",
            "Validation Acc is  84.45157327144905\n",
            "Trainging Accuracy  87.73767039138829\n",
            "Trianing Loss  0.42323093084697416\n",
            "Validation loss is  0.5685454843216068\n",
            "Validation Acc is  84.3218892908334\n",
            "Trainging Accuracy  88.45726320716082\n",
            "Trianing Loss  0.3977654669015782\n",
            "Validation loss is  0.5598507972523635\n",
            "Validation Acc is  84.66998839669647\n",
            "Trainging Accuracy  89.22170869166716\n",
            "Trianing Loss  0.3690373459157355\n",
            "Validation loss is  0.5854233389468172\n",
            "Validation Acc is  84.56760630673674\n",
            "Trainging Accuracy  89.75409036837692\n",
            "Trianing Loss  0.3453118484420818\n",
            "Validation loss is  0.6194397280700342\n",
            "Validation Acc is  83.80997884103475\n",
            "Trainging Accuracy  90.58288968193608\n",
            "Trianing Loss  0.3194765094528323\n",
            "Validation loss is  0.6320821471740065\n",
            "Validation Acc is  83.75537505972288\n",
            "Finished Training\n"
          ]
        }
      ]
    },
    {
      "cell_type": "code",
      "source": [
        "true = torch.tensor([]).to(device)\n",
        "pred = torch.tensor([]).to(device)\n",
        "      \n",
        "\n",
        "from torchmetrics.classification import F1Score\n",
        "# print(f1_true)\n",
        "# print(f1_pred)\n",
        "\n",
        "\n",
        "true_val = torch.tensor([]).to(device)\n",
        "pred_val = torch.tensor([]).to(device)\n",
        "ll = 0\n",
        "\n",
        "\n",
        "missclassified_images = []\n",
        "missclassified_images_label = []\n",
        "missclassified_images_pred = []\n",
        "\n",
        "total_loss_validation = []\n",
        "\n",
        "with torch.no_grad():\n",
        "      correct = 0\n",
        "      total = 0\n",
        "      cnt=0\n",
        "      # ✨ W&B: parameters\n",
        "      log_counter = 0\n",
        "      NUM_BATCHES_TO_LOG = 10\n",
        "      NUM_IMAGES_PER_BATCH = 64\n",
        "      i=-1\n",
        "      batch_loss_val= 0\n",
        "      for data in testloader:\n",
        "          \n",
        "          i+=1\n",
        "          inputs, labels = data\n",
        "          inputs, labels = inputs.to(device), labels.to(device)\n",
        "\n",
        "          # Get Prediction\n",
        "          outputs = loaded_model(inputs)\n",
        "\n",
        "          # Compute loss \n",
        "          total += labels.size(0)\n",
        "          cnt+=1\n",
        "          #labels = labels.float()\n",
        "          labels = labels.reshape((len(labels),))\n",
        "          \n",
        "          #print(outputs.shape)\n",
        "          loss_val = criterion(outputs, labels)\n",
        "          batch_loss_val += loss_val.item()\n",
        "          \n",
        "\n",
        "          out_cpu = outputs.cpu()\n",
        "          predicted = [np.argmax(x) for x in out_cpu]\n",
        "          predicted = torch.Tensor(predicted).to(device)\n",
        "          correct += (predicted == labels).sum().item()\n",
        "\n",
        "          for r in range(len(predicted)):\n",
        "            if(predicted[r] != labels[r]):\n",
        "              missclassified_images.append(inputs[r])\n",
        "              missclassified_images_label.append(labels[r])\n",
        "              missclassified_images_pred.append(predicted[r])\n",
        "          true_val = torch.cat((true_val, labels))\n",
        "          pred_val = torch.cat((pred_val, predicted))\n",
        "\n",
        "          \n",
        "\n",
        "          ll+=len(labels)\n",
        "  \n",
        "      acc = 100 * correct / total\n",
        "      total_loss_validation += [batch_loss_val/cnt]\n",
        "\n",
        "      \n",
        "      # ✨ W&B: Log accuracy across training epochs, to visualize in the UI\n",
        "     \n",
        "\n",
        "\n",
        "f1 = F1Score(task=\"multiclass\", num_classes=10)\n",
        "print(f1(pred_val.cpu(), true_val.cpu()))\n",
        "# print(test_accuracy_epoch*100)\n",
        "print(acc)   \n",
        "\n",
        "print('Finished Testing...')\n"
      ],
      "metadata": {
        "colab": {
          "base_uri": "https://localhost:8080/"
        },
        "id": "bPiZtG3mD3kN",
        "outputId": "3deb873c-ba96-4f12-90c2-5da18c99ab79"
      },
      "execution_count": null,
      "outputs": [
        {
          "output_type": "stream",
          "name": "stdout",
          "text": [
            "tensor(0.8426)\n",
            "84.25938566552901\n",
            "Finished Testing...\n"
          ]
        }
      ]
    },
    {
      "cell_type": "code",
      "source": [
        "# missclassified_images \n",
        "# missclassified_images_label \n",
        "# missclassified_images = missclassified_images\n",
        "# missclassified_images_label = missclassified_images_label.to(device)\n",
        "l = []\n",
        "for i in range(len(missclassified_images_label)):\n",
        "  if(missclassified_images_label[i] == 4):\n",
        "    l.append(i)\n",
        "\n",
        "\n",
        "# plt.imshow(missclassified_images[0].cpu().permute(1,2,0))\n",
        "# print(missclassified_images_label[0])"
      ],
      "metadata": {
        "id": "-MnH-bhggl3T"
      },
      "execution_count": null,
      "outputs": []
    },
    {
      "cell_type": "code",
      "source": [
        "len(l)"
      ],
      "metadata": {
        "colab": {
          "base_uri": "https://localhost:8080/"
        },
        "id": "1lpBLVE_irZt",
        "outputId": "a052f257-9967-4266-d774-8759d7e25134"
      },
      "execution_count": null,
      "outputs": [
        {
          "output_type": "execute_result",
          "data": {
            "text/plain": [
              "748"
            ]
          },
          "metadata": {},
          "execution_count": 107
        }
      ]
    },
    {
      "cell_type": "code",
      "source": [
        "idx = 611-11-11-20-11-440-110\n",
        "plt.imshow(missclassified_images[l[idx]].cpu().permute(1,2,0))\n",
        "print(missclassified_images_pred[l[idx]])\n",
        "print(missclassified_images_label[l[idx]])"
      ],
      "metadata": {
        "colab": {
          "base_uri": "https://localhost:8080/",
          "height": 301
        },
        "id": "aFE41fWPjO3J",
        "outputId": "09efcdc9-d173-4855-f466-c3757a61532a"
      },
      "execution_count": null,
      "outputs": [
        {
          "output_type": "stream",
          "name": "stdout",
          "text": [
            "tensor(2., device='cuda:0')\n",
            "tensor(4, device='cuda:0', dtype=torch.uint8)\n"
          ]
        },
        {
          "output_type": "display_data",
          "data": {
            "text/plain": [
              "<Figure size 432x288 with 1 Axes>"
            ],
            "image/png": "[encoded data removed]"
          },
          "metadata": {
            "needs_background": "light"
          }
        }
      ]
    },
    {
      "cell_type": "code",
      "source": [
        "from torchmetrics.classification import MulticlassConfusionMatrix\n",
        "metric = MulticlassConfusionMatrix(num_classes=10)\n",
        "metric(pred_val.cpu(), true_val.cpu())"
      ],
      "metadata": {
        "colab": {
          "base_uri": "https://localhost:8080/"
        },
        "id": "GO-RcUhNTlVs",
        "outputId": "43e8453a-37af-43d8-c5d8-c9b6da122599"
      },
      "execution_count": null,
      "outputs": [
        {
          "output_type": "execute_result",
          "data": {
            "text/plain": [
              "tensor([[   0,    0,  499,   26,    0,    0,    0,    0,    1,    0],\n",
              "        [   2,    0, 1356,   28,    0,    0,    0,    0,    0,    0],\n",
              "        [   1,    0, 1042,   15,    0,    0,    0,    0,    3,    0],\n",
              "        [   1,    0,  839,   14,    0,    0,    0,    0,    0,    0],\n",
              "        [   0,    0,  741,    7,    0,    0,    0,    0,    0,    0],\n",
              "        [   1,    0,  667,   12,    0,    0,    0,    0,    0,    0],\n",
              "        [   1,    0,  543,   12,    0,    0,    0,    0,    1,    0],\n",
              "        [   0,    0,  537,   20,    0,    0,    0,    0,    3,    0],\n",
              "        [   0,    0,  486,   13,    0,    0,    0,    0,    0,    0],\n",
              "        [   0,    0,  441,   13,    0,    0,    0,    0,    0,    0]])"
            ]
          },
          "metadata": {},
          "execution_count": 17
        }
      ]
    },
    {
      "cell_type": "code",
      "source": [],
      "metadata": {
        "id": "fNyMSFNwiqGZ"
      },
      "execution_count": null,
      "outputs": []
    },
    {
      "cell_type": "code",
      "source": [
        "# filename = '/content/gdrive/MyDrive/Datasets/cnn.sav'\n",
        "# pickle.dump(model, open(filename, 'wb'))"
      ],
      "metadata": {
        "id": "DWCkeWVrU6MO"
      },
      "execution_count": null,
      "outputs": []
    },
    {
      "cell_type": "code",
      "source": [
        "all_labels = [0,1,2,3,4,5,6,7,8,9]\n",
        "# preds = pred_val.cpu().numpy().astype(int)\n",
        "# y_true = true_val.cpu().numpy().astype(int)\n",
        "preds = []\n",
        "y_true = []\n",
        "for i in pred_val.cpu():\n",
        "    preds.append((int(i.item())))\n",
        "for i in true_val.cpu():\n",
        "    y_true.append((int(i.item())))\n",
        "\n",
        "wandb.log({\"my_conf_mat_id\" : wandb.plot.confusion_matrix( \n",
        "            preds=preds, y_true=y_true,\n",
        "            class_names=all_labels)})"
      ],
      "metadata": {
        "id": "9u6kDr7vNwed"
      },
      "execution_count": null,
      "outputs": []
    },
    {
      "cell_type": "code",
      "source": [
        "filename = '/content/gdrive/MyDrive/Datasets/cnn.sav'\n",
        "loaded_model = pickle.load(open(filename, 'rb'))"
      ],
      "metadata": {
        "id": "5a0_dyIXeZox"
      },
      "execution_count": null,
      "outputs": []
    },
    {
      "cell_type": "markdown",
      "source": [
        "\n",
        "## Trash"
      ],
      "metadata": {
        "id": "owdlsThLovhb"
      }
    },
    {
      "cell_type": "code",
      "source": [
        "#   for epoch in range(1):  # loop over the dataset multiple times\n",
        "\n",
        "#     running_loss = 0.0\n",
        "#     for i, data in enumerate(trainloader, 0):\n",
        "#         # get the inputs; data is a list of [inputs, labels]\n",
        "#         inputs, labels = data\n",
        "#         inputs.float()\n",
        "#         # zero the parameter gradients\n",
        "#         optimizer.zero_grad()\n",
        "\n",
        "#         # forward + backward + optimize\n",
        "#         outputs = model(inputs)\n",
        "#         labels = torch.reshape(labels, (-1,)).long()\n",
        "#         # print(labels)\n",
        "#         loss = criterion(outputs, labels)\n",
        "#         print(loss)\n",
        "#         loss.backward()\n",
        "#         optimizer.step()\n",
        "\n",
        "#         # print statistics\n",
        "#         running_loss += loss.item()\n",
        "#         print(running_loss)\n",
        "\n",
        "#         # print(f'[{epoch + 1}, {i + 1:5d}] loss: {running_loss / 2000:.3f}')\n",
        "#         if i % 10 == 1999:    # print every 2000 mini-batches\n",
        "#             print(f'[{epoch + 1}, {i + 1:5d}] loss: {running_loss / 2000:.3f}')\n",
        "#             running_loss = 0.0\n",
        "\n",
        "# print('Finished Training')"
      ],
      "metadata": {
        "id": "rNRbrMvDNISl"
      },
      "execution_count": null,
      "outputs": []
    },
    {
      "cell_type": "code",
      "source": [
        "# # data_size = len(data['X'])\n",
        "# data_size = 2000\n",
        "\n",
        "# transform = transforms.Compose(\n",
        "#     [transforms.ToTensor(),\n",
        "#      transforms.Normalize((0.5, 0.5, 0.5), (0.5, 0.5, 0.5))])\n",
        "\n",
        "\n",
        "# # shuffle\n",
        "# indices = list(range(data_size))\n",
        "# np.random.shuffle(indices)\n",
        "\n",
        "# test_size =  int(  0.10*data_size )\n",
        "# val_size =   int(  0.20*data_size )\n",
        "# train_size = int(  0.70*data_size )\n",
        "\n",
        "\n",
        "# test_index =  indices[:test_size]\n",
        "# train_index = indices[test_size:test_size+train_size]\n",
        "# val_index = indices[-val_size:]\n",
        "\n",
        "# # df_test = torch.tensor(torch.tensor(data['X'][test_index]),torch.tensor(data['y'][test_index]))\n",
        "\n",
        "# # from torch.utils.data import TensorDataset\n",
        "# # label = torch.tensor(data['y'],)\n",
        "# # img_arr = torch.tensor(data['X'])\n",
        "# # df = TensorDataset(img_arr, label)\n",
        "\n",
        "\n",
        "# gen = torch.Generator()\n",
        "# gen.manual_seed(42)\n",
        "\n",
        "# train_sampler=SubsetRandomSampler(train_index, generator=gen)\n",
        "# val_sampler=SubsetRandomSampler(val_index, generator=gen)\n",
        "# test_sampler=SubsetRandomSampler(test_index, generator=gen)\n",
        "\n",
        "# batch_size = 64\n",
        "# trainloader = torch.utils.data.DataLoader(df, sampler = train_sampler, batch_size=batch_size,num_workers=2)\n",
        "# # valloader = torch.utils.data.DataLoader(df, sampler = val_sampler, batch_size=batch_size,num_workers=2)\n",
        "# # testloader = torch.utils.data.DataLoader(df,sampler = test_sampler, batch_size=batch_size,num_workers=2)"
      ],
      "metadata": {
        "id": "GJ2FXqp5TV9A"
      },
      "execution_count": null,
      "outputs": []
    },
    {
      "cell_type": "code",
      "source": [
        "# training\n",
        "y_train = data['y'][train_index]\n",
        "y_val = data['y'][val_index]"
      ],
      "metadata": {
        "id": "NpEhHha6cW7s"
      },
      "execution_count": null,
      "outputs": []
    },
    {
      "cell_type": "code",
      "source": [
        "unique, counts = np.unique(y_train, return_counts=True)\n",
        "plt.bar(unique, counts, color ='maroon',\n",
        "        width = 0.4)"
      ],
      "metadata": {
        "colab": {
          "base_uri": "https://localhost:8080/"
        },
        "id": "AXrM1lXldJUK",
        "outputId": "fa5967ab-4b83-4a7f-906f-4f23debb491a"
      },
      "execution_count": null,
      "outputs": [
        {
          "output_type": "execute_result",
          "data": {
            "text/plain": [
              "<BarContainer object of 10 artists>"
            ]
          },
          "metadata": {},
          "execution_count": 22
        },
        {
          "output_type": "display_data",
          "data": {
            "text/plain": [
              "<Figure size 432x288 with 1 Axes>"
            ],
            "image/png": "[encoded data removed]"
          },
          "metadata": {
            "needs_background": "light"
          }
        }
      ]
    },
    {
      "cell_type": "code",
      "source": [
        "unique, counts = np.unique(y_val, return_counts=True)\n",
        "plt.bar(unique, counts, color ='green',\n",
        "        width = 0.4)"
      ],
      "metadata": {
        "colab": {
          "base_uri": "https://localhost:8080/"
        },
        "id": "a-dvDgJedj3d",
        "outputId": "ddc8c4ed-f9a1-45fb-8ef7-33876a0c0e3e"
      },
      "execution_count": null,
      "outputs": [
        {
          "output_type": "execute_result",
          "data": {
            "text/plain": [
              "<BarContainer object of 10 artists>"
            ]
          },
          "metadata": {},
          "execution_count": 23
        },
        {
          "output_type": "display_data",
          "data": {
            "text/plain": [
              "<Figure size 432x288 with 1 Axes>"
            ],
            "image/png": "[encoded data removed]"
          },
          "metadata": {
            "needs_background": "light"
          }
        }
      ]
    },
    {
      "cell_type": "markdown",
      "source": [
        "## RESNET"
      ],
      "metadata": {
        "id": "810bUQCagJDa"
      }
    },
    {
      "cell_type": "code",
      "source": [
        "# https://github.com/shounak8/AIML_Tutotials/blob/master/Deep_Learning/PyTorch/santa_or_not/santa_pytorch_pretrained_model.ipynb"
      ],
      "metadata": {
        "id": "kWJzlqtjgNVy"
      },
      "execution_count": null,
      "outputs": []
    },
    {
      "cell_type": "code",
      "source": [
        "device = torch.device(\"cuda:0\" if torch.cuda.is_available() else \"cpu\") # device object"
      ],
      "metadata": {
        "id": "sWUvAjKH4FBv"
      },
      "execution_count": null,
      "outputs": []
    },
    {
      "cell_type": "code",
      "source": [
        "model = resnet18(pretrained=True) # using pre trained resnet\n",
        "model.fc = Linear(in_features=512, out_features=10)  # changing the dimensions of last output layer to number of classes\n",
        "model = model.to(device) # using gpu\n",
        "\n",
        "optimizer = Adam(model.parameters(), lr=0.01) # choosing optimizer and setting cross entropy loss\n",
        "loss_function = CrossEntropyLoss()"
      ],
      "metadata": {
        "colab": {
          "base_uri": "https://localhost:8080/",
          "height": 156,
          "referenced_widgets": [
            "35f73b5fa1d5427482e669f7dd4a451e",
            "2d30e2cdc1ab48f2b6041a8f29a2f166",
            "b6075ffcc4044cc08fefb6845bd43eea",
            "7d1e93425f1246909d315207de1653ff",
            "e749c82920af4d77afbaa0a34e33985a",
            "49d2c91da4ad4266b20f78b6a0dc9f1e",
            "49d94b211bf8451783454fad749eb058",
            "af7660c78e8a49d0b8e19dddbc1c5e84",
            "5eff6b476f814f369bd1e0629210b1ee",
            "9cbc4a879d054c0dad1aebf183d4d459",
            "89dc11116aed47218c38b455473fe260"
          ]
        },
        "id": "NU5C3h2hqgEb",
        "outputId": "41994e5c-c2f0-4051-b3d8-27af6477f82f"
      },
      "execution_count": null,
      "outputs": [
        {
          "output_type": "stream",
          "name": "stderr",
          "text": [
            "/usr/local/lib/python3.8/dist-packages/torchvision/models/_utils.py:208: UserWarning: The parameter 'pretrained' is deprecated since 0.13 and may be removed in the future, please use 'weights' instead.\n",
            "  warnings.warn(\n",
            "/usr/local/lib/python3.8/dist-packages/torchvision/models/_utils.py:223: UserWarning: Arguments other than a weight enum or `None` for 'weights' are deprecated since 0.13 and may be removed in the future. The current behavior is equivalent to passing `weights=ResNet18_Weights.IMAGENET1K_V1`. You can also use `weights=ResNet18_Weights.DEFAULT` to get the most up-to-date weights.\n",
            "  warnings.warn(msg)\n",
            "Downloading: \"https://download.pytorch.org/models/resnet18-f37072fd.pth\" to /root/.cache/torch/hub/checkpoints/resnet18-f37072fd.pth\n"
          ]
        },
        {
          "output_type": "display_data",
          "data": {
            "text/plain": [
              "  0%|          | 0.00/44.7M [00:00<?, ?B/s]"
            ],
            "application/vnd.jupyter.widget-view+json": {
              "version_major": 2,
              "version_minor": 0,
              "model_id": "35f73b5fa1d5427482e669f7dd4a451e"
            }
          },
          "metadata": {}
        }
      ]
    },
    {
      "cell_type": "code",
      "source": [
        "model = resnet18(pretrained=True)   #load resnet18 model\n",
        "num_features = model.fc.in_features     #extract fc layers features\n",
        "model.fc = nn.Linear(num_features, 10) #(num_of_class == 10)\n",
        "model = model.to(device) \n",
        "loss_fn = nn.CrossEntropyLoss()  #(set loss function)\n",
        "optimizer = optim.SGD(model.parameters(), lr=0.001, momentum=0.9)"
      ],
      "metadata": {
        "id": "j6370YX6AjZL"
      },
      "execution_count": null,
      "outputs": []
    },
    {
      "cell_type": "code",
      "source": [
        "# wandb.init(\n",
        "#     # set the wandb project where this run will be logged\n",
        "#     project=\"Q1\",\n",
        "# )\n",
        "## command to log gradients to wandb\n",
        "# wandb.watch(model)  ## pass name of model for which we want to log gradients, helps for analysis\n",
        "\n",
        "\n",
        "total_loss_train = []\n",
        "total_loss_validation = []\n",
        "\n",
        "\n",
        "## command to log gradients to wandb\n",
        "# wandb.watch(model)  ## pass name of model for which we want to log gradients, helps for analysis\n",
        "epochs = 10\n",
        "for epoch in range(epochs):  \n",
        "    # print(epoch + 1)\n",
        "    \n",
        "    batch_loss_train=0\n",
        "    batch_loss_val=0\n",
        "\n",
        "    num_batches = 0\n",
        "    correct = 0\n",
        "    total = 0\n",
        "    cnt=0\n",
        "    for i, data in enumerate(trainloader, 0):\n",
        "        \n",
        "\n",
        "\n",
        "        inputs, labels = data\n",
        "        inputs, labels = inputs.to(device), labels.to(device)\n",
        "\n",
        "        optimizer.zero_grad()\n",
        "        outputs = model(inputs)\n",
        "        labels = labels.reshape((len(labels),))\n",
        "       \n",
        "        total += labels.size(0)\n",
        "        cnt+=1\n",
        "\n",
        "        train_pred = torch.max(outputs, 1).indices\n",
        "        correct += int(torch.sum(train_pred == labels))\n",
        "        \n",
        "        loss = criterion(outputs, labels)\n",
        "        loss.backward()\n",
        "        optimizer.step()\n",
        "\n",
        "        batch_loss_train+=loss.item()\n",
        "        running_loss = loss.item()\n",
        "        # print('[epoch, batch] =  [%d, %5d] loss: %.6f' %(epoch + 1, i, running_loss))\n",
        "        num_batches+=1\n",
        "        # print(num_batches)\n",
        "\n",
        "    batch_loss_train/=num_batches\n",
        "    acc = 100 * correct / total\n",
        "\n",
        "    # wandb.log(\n",
        "    #       {\"train accuracy\" : acc,\"train loss\":batch_loss_train}\n",
        "    #       )\n",
        "\n",
        "    print(\"Trainging Accuracy \",acc)\n",
        "    print(\"Trianing Loss \",batch_loss_train)\n",
        "\n",
        "    total_loss_train.append(batch_loss_train)\n",
        "    \n",
        "    # Valdiation Loop\n",
        "    with torch.no_grad():\n",
        "      correct = 0\n",
        "      total = 0\n",
        "      cnt=0\n",
        "      # ✨ W&B: parameters\n",
        "      log_counter = 0\n",
        "      NUM_BATCHES_TO_LOG = 10\n",
        "      NUM_IMAGES_PER_BATCH = 64\n",
        "      i=-1\n",
        "      for data in valloader:\n",
        "          i+=1\n",
        "          inputs, labels = data\n",
        "          inputs, labels = inputs.to(device), labels.to(device)\n",
        "\n",
        "          # Get Prediction\n",
        "          outputs = model(inputs)\n",
        "\n",
        "          # Compute loss \n",
        "          total += labels.size(0)\n",
        "          cnt+=1\n",
        "          #labels = labels.float()\n",
        "          labels = labels.reshape((len(labels),))\n",
        "          \n",
        "          #print(outputs.shape)\n",
        "          loss_val = criterion(outputs, labels)\n",
        "          batch_loss_val += loss_val.item()\n",
        "          \n",
        "\n",
        "          out_cpu = outputs.cpu()\n",
        "          predicted = [np.argmax(x) for x in out_cpu]\n",
        "          predicted = torch.Tensor(predicted).to(device)\n",
        "          correct += (predicted == labels).sum().item()\n",
        "\n",
        "  \n",
        "      acc = 100 * correct / total\n",
        "      total_loss_validation += [batch_loss_val/cnt]\n",
        "      # ✨ W&B: Log accuracy across training epochs, to visualize in the UI\n",
        "     \n",
        "\n",
        "      print(\"Validation loss is \",batch_loss_val/cnt)\n",
        "      print(\"Validation Acc is \", acc)\n",
        "\n",
        "      # wandb.log(\n",
        "      #     {\"val accuracy\" :acc ,\"val loss\":batch_loss_val/cnt}\n",
        "      #     )\n",
        "\n",
        "print('Finished Training')"
      ],
      "metadata": {
        "id": "cc3miMCQgNhS",
        "colab": {
          "base_uri": "https://localhost:8080/"
        },
        "outputId": "cfec1dab-1a37-4fc7-dd20-675b5332546f"
      },
      "execution_count": null,
      "outputs": [
        {
          "output_type": "stream",
          "name": "stdout",
          "text": [
            "Trainging Accuracy  70.03061682170089\n",
            "Trianing Loss  0.897367363261463\n",
            "Validation loss is  0.46343352004690463\n",
            "Validation Acc is  85.22285168247902\n",
            "Trainging Accuracy  87.6499151699526\n",
            "Trianing Loss  0.3961405515893736\n",
            "Validation loss is  0.3733096649162634\n",
            "Validation Acc is  88.54003139717426\n",
            "Trainging Accuracy  90.95926207609352\n",
            "Trianing Loss  0.2913694442842072\n",
            "Validation loss is  0.34399487022879865\n",
            "Validation Acc is  89.53655040611562\n",
            "Trainging Accuracy  92.65391290781801\n",
            "Trianing Loss  0.23584068452758236\n",
            "Validation loss is  0.3391551540993707\n",
            "Validation Acc is  89.98703160193844\n",
            "Trainging Accuracy  94.15550225238401\n",
            "Trianing Loss  0.19158633045870765\n",
            "Validation loss is  0.34016676048654654\n",
            "Validation Acc is  90.42386185243328\n",
            "Trainging Accuracy  95.15786189278262\n",
            "Trianing Loss  0.15531155912256672\n",
            "Validation loss is  0.3327016543645786\n",
            "Validation Acc is  90.71053170432053\n",
            "Trainging Accuracy  95.92035726125704\n",
            "Trianing Loss  0.12772416415278268\n",
            "Validation loss is  0.3447065342982263\n",
            "Validation Acc is  90.72418264964848\n",
            "Trainging Accuracy  96.65750112131671\n",
            "Trianing Loss  0.10554377538177587\n",
            "Validation loss is  0.36311157566686386\n",
            "Validation Acc is  90.77196095829636\n",
            "Trainging Accuracy  97.16648140564364\n",
            "Trianing Loss  0.08904603962842236\n",
            "Validation loss is  0.3686752122497454\n",
            "Validation Acc is  90.89481946624804\n",
            "Trainging Accuracy  97.4999512470992\n",
            "Trianing Loss  0.07549818666904998\n",
            "Validation loss is  0.3752322309695217\n",
            "Validation Acc is  90.71053170432053\n",
            "Finished Training\n"
          ]
        }
      ]
    },
    {
      "cell_type": "code",
      "source": [
        "# testing\n",
        "true = torch.tensor([]).to(device)\n",
        "pred = torch.tensor([]).to(device)\n",
        "\n",
        "\n",
        "from torchmetrics.classification import F1Score\n",
        "# print(f1_true)\n",
        "# print(f1_pred)\n",
        "\n",
        "\n",
        "true_val = torch.tensor([]).to(device)\n",
        "pred_val = torch.tensor([]).to(device)\n",
        "ll = 0\n",
        "total_loss_validation = []\n",
        "with torch.no_grad():\n",
        "      correct = 0\n",
        "      total = 0\n",
        "      cnt=0\n",
        "      # ✨ W&B: parameters\n",
        "      log_counter = 0\n",
        "      NUM_BATCHES_TO_LOG = 10\n",
        "      NUM_IMAGES_PER_BATCH = 64\n",
        "      i=-1\n",
        "      batch_loss_val = 0\n",
        "\n",
        "      for data in testloader:\n",
        "          i+=1\n",
        "          inputs, labels = data\n",
        "          inputs, labels = inputs.to(device), labels.to(device)\n",
        "\n",
        "          # Get Prediction\n",
        "          outputs = model(inputs)\n",
        "\n",
        "          # Compute loss \n",
        "          total += labels.size(0)\n",
        "          cnt+=1\n",
        "          #labels = labels.float()\n",
        "          labels = labels.reshape((len(labels),))\n",
        "          \n",
        "          #print(outputs.shape)\n",
        "          loss_val = criterion(outputs, labels)\n",
        "          batch_loss_val += loss_val.item()\n",
        "          \n",
        "\n",
        "          out_cpu = outputs.cpu()\n",
        "          predicted = [np.argmax(x) for x in out_cpu]\n",
        "          predicted = torch.Tensor(predicted).to(device)\n",
        "          correct += (predicted == labels).sum().item()\n",
        "\n",
        "          true_val = torch.cat((true_val, labels))\n",
        "          pred_val = torch.cat((pred_val, predicted))\n",
        "\n",
        "          ll+=len(labels)\n",
        "  \n",
        "      acc = 100 * correct / total\n",
        "      total_loss_validation += [batch_loss_val/cnt]\n",
        "\n",
        "      \n",
        "      # ✨ W&B: Log accuracy across training epochs, to visualize in the UI\n",
        "     \n",
        "\n",
        "\n",
        "f1 = F1Score(task=\"multiclass\", num_classes=10)\n",
        "print(f1(pred_val.cpu(), true_val.cpu()))\n",
        "# print(test_accuracy_epoch*100)\n",
        "print(acc)      \n",
        "print('Finished Testing...')"
      ],
      "metadata": {
        "colab": {
          "base_uri": "https://localhost:8080/"
        },
        "id": "Y_HUqEove3ZF",
        "outputId": "6ce495e1-e44b-428e-d5b4-4e83f0c1fb7e"
      },
      "execution_count": null,
      "outputs": [
        {
          "output_type": "stream",
          "name": "stdout",
          "text": [
            "tensor(0.8997)\n",
            "89.96587030716724\n",
            "Finished Testing...\n"
          ]
        }
      ]
    },
    {
      "cell_type": "code",
      "source": [
        "all_labels = [0,1,2,3,4,5,6,7,8,9]\n",
        "# preds = pred_val.cpu().numpy().astype(int)\n",
        "# y_true = true_val.cpu().numpy().astype(int)\n",
        "preds = []\n",
        "y_true = []\n",
        "for i in pred_val.cpu():\n",
        "    preds.append((int(i.item())))\n",
        "for i in true_val.cpu():\n",
        "    y_true.append((int(i.item())))\n",
        "\n",
        "wandb.log({\"my_conf_mat_id\" : wandb.plot.confusion_matrix( \n",
        "            preds=preds, y_true=y_true,\n",
        "            class_names=all_labels)})"
      ],
      "metadata": {
        "id": "GfhMeRyhfSpF"
      },
      "execution_count": null,
      "outputs": []
    },
    {
      "cell_type": "code",
      "source": [],
      "metadata": {
        "id": "mApaz2ubfSr9"
      },
      "execution_count": null,
      "outputs": []
    },
    {
      "cell_type": "code",
      "source": [],
      "metadata": {
        "id": "pp26ANX1fSum"
      },
      "execution_count": null,
      "outputs": []
    },
    {
      "cell_type": "code",
      "source": [],
      "metadata": {
        "id": "c6SXQiWYfSxB"
      },
      "execution_count": null,
      "outputs": []
    },
    {
      "cell_type": "code",
      "source": [
        "from sklearn.manifold import TSNE\n",
        "import numpy as np\n",
        "import matplotlib.pyplot as plt\n",
        "from mpl_toolkits.mplot3d import Axes3D\n",
        "import warnings\n",
        "warnings.filterwarnings(\"ignore\")\n",
        "\n",
        "from sklearn.manifold import TSNE\n",
        "import numpy as np\n",
        "import matplotlib.pyplot as plt\n",
        "from mpl_toolkits.mplot3d import Axes3D\n",
        "import warnings\n",
        "warnings.filterwarnings(\"ignore\")\n",
        "\n",
        "def construct_TSNE(loader):\n",
        "  model = resnet18(pretrained=True)\n",
        "  img = []\n",
        "  lbl = []\n",
        "\n",
        "  for i,data in enumerate(loader,0):\n",
        "      images,labels = data\n",
        "      labels = labels.numpy()\n",
        "      output = (model(images)).detach().numpy()\n",
        "\n",
        "      img.append(output)\n",
        "      lbl.append(labels)\n",
        "\n",
        "  \n",
        "  # img =np.concatenate(img)\n",
        "  # lbl = np.concatenate(lbl)\n",
        "\n",
        "  img = np.array(img).flatten()\n",
        "  lbl = np.array(lbl).flatten()\n",
        "\n",
        "\n",
        "  tsne = TSNE(n_components=2)\n",
        "  tsne_transform = tsne.fit_transform(img)\n",
        "\n",
        "  plt.scatter(tsne_transform[:, 0], tsne_transform[:, 1])\n",
        "  plt.title('2D t-SNE plot')\n",
        "  plt.show()  \n",
        "\n",
        "construct_TSNE(valloader)\n",
        "construct_TSNE(trainloader)"
      ],
      "metadata": {
        "id": "bf1f1kPOkM-U"
      },
      "execution_count": null,
      "outputs": []
    },
    {
      "cell_type": "code",
      "source": [
        "model = resnet18(pretrained=True)\n",
        "img = []\n",
        "lbl = []\n",
        "\n",
        "for i,data in enumerate(valloader,0):\n",
        "      images,labels = data\n",
        "      labels = labels.numpy()\n",
        "      output = (model(images)).detach().numpy()\n",
        "\n",
        "      img.append(output)\n",
        "      lbl.append(labels)\n",
        "\n",
        "\n",
        "img = np.array(img).flatten()\n",
        "lbl = np.array(lbl).flatten()      \n",
        "\n",
        "# img =np.concatenate(img)\n",
        "# lbl = np.concatenate(lbl)\n",
        "\n",
        "tsne = TSNE(n_components=3)\n",
        "val_3d = tsne.fit_transform(img)\n",
        "fig = plt.figure()\n",
        "ax = fig.add_subplot(111, projection='3d')\n",
        "ax.scatter(val_3d[:, 0], val_3d[:, 1], val_3d[:, 2])\n",
        "plt.show()"
      ],
      "metadata": {
        "colab": {
          "base_uri": "https://localhost:8080/",
          "height": 248
        },
        "id": "6M03OGOtqHQv",
        "outputId": "b6310fcc-8d0f-45cb-dd70-676735dafeb5"
      },
      "execution_count": null,
      "outputs": [
        {
          "output_type": "display_data",
          "data": {
            "text/plain": [
              "<Figure size 432x288 with 1 Axes>"
            ],
            "image/png": "[encoded data removed]"
          },
          "metadata": {
            "needs_background": "light"
          }
        }
      ]
    },
    {
      "cell_type": "markdown",
      "source": [
        "## Part 4"
      ],
      "metadata": {
        "id": "IOknQGTE-mKy"
      }
    }
  ]
}